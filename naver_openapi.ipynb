{
 "cells": [
  {
   "cell_type": "code",
   "execution_count": null,
   "metadata": {},
   "outputs": [],
   "source": [
    "clientID='efbKmHbNeWBYW1nEZ6PD'\n",
    "clientSercret='HSSaDIXEhR'"
   ]
  },
  {
   "cell_type": "code",
   "execution_count": null,
   "metadata": {},
   "outputs": [],
   "source": [
    "import os\n",
    "import sys\n",
    "import urllib.request\n",
    "import json\n",
    "\n",
    "client_id = \"efbKmHbNeWBYW1nEZ6PD\"\n",
    "client_secret = \"HSSaDIXEhR\"\n",
    "\n",
    "encText = urllib.parse.quote(\"장마\")\n",
    "\n",
    "url = \"https://openapi.naver.com/v1/search/news?query=\" + encText +'&display='+ str(100)  # JSON 결과\n",
    "# url = \"https://openapi.naver.com/v1/search/blog.xml?query=\" + encText # XML 결과\n",
    "\n",
    "request = urllib.request.Request(url)\n",
    "\n",
    "request.add_header(\"X-Naver-Client-Id\",client_id)\n",
    "request.add_header(\"X-Naver-Client-Secret\",client_secret)\n",
    "\n",
    "response = urllib.request.urlopen(request)\n",
    "rescode = response.getcode()\n",
    "img_link_list=[]\n",
    "\n",
    "if(rescode==200):\n",
    "    response_body = response.read()\n",
    "    res_body=json.loads(response_body.decode('utf-8'))\n",
    "    print(response_body.decode('utf-8'))\n",
    "    for item in res_body['items']:\n",
    "        img_link_list.append(item['link'])\n",
    "    #print(img_link_list)\n",
    "else:\n",
    "    print(\"Error Code:\" + rescode)"
   ]
  },
  {
   "cell_type": "code",
   "execution_count": null,
   "metadata": {},
   "outputs": [],
   "source": [
    "i = 1\n",
    "for link in img_link_list :\n",
    "    save_name = 'data/images/img'+str(i)+\".jpg\"\n",
    "    try:\n",
    "        urllib.request.urlretrieve(link, save_name)\n",
    "        print(link,'저장됨')\n",
    "        i+=1\n",
    "    except:\n",
    "        print(link,'저장실패')"
   ]
  },
  {
   "cell_type": "code",
   "execution_count": null,
   "metadata": {},
   "outputs": [],
   "source": [
    "from nltk import Text\n",
    "import matplotlib.pyplot as plt\n",
    "from matplotlib import font_manager, rc\n",
    "\n",
    "from konlpy.tag import *\n",
    "from konlpy.corpus import kobill\n",
    "hannanum = Hannanum()\n",
    "kkma=Kkma()\n",
    "Komoran=Komoran()\n",
    "okt=Okt()"
   ]
  },
  {
   "cell_type": "code",
   "execution_count": null,
   "metadata": {},
   "outputs": [],
   "source": [
    "font_path = 'c:/Windows/Fonts/malgun.ttf'\n",
    "font_name = font_manager.FontProperties(fname=font_path).get_name()\n",
    "rc('font', family=font_name)"
   ]
  },
  {
   "cell_type": "code",
   "execution_count": null,
   "metadata": {},
   "outputs": [],
   "source": [
    "c= kobill.open('navernews.txt').read()\n",
    "\n",
    "kolaw = Text(okt.nouns(c), name='kolaw')\n",
    "kolaw.plot(30)\n",
    "plt.show()"
   ]
  },
  {
   "cell_type": "code",
   "execution_count": null,
   "metadata": {},
   "outputs": [],
   "source": [
    "kv=kolaw.vocab()\n",
    "kv2=dict()\n",
    "for tag, count in kv.items() :\n",
    "    if(len(tag))>1:\n",
    "        kv2[tag]=count\n",
    "\n",
    "#kv2\n",
    "kv"
   ]
  },
  {
   "cell_type": "code",
   "execution_count": null,
   "metadata": {},
   "outputs": [],
   "source": [
    "from wordcloud import WordCloud\n",
    "font_path='c:/Windows/Fonts/malgun.ttf'\n",
    "wc=WordCloud(width=1000, height=800, background_color='white', font_path=font_path)\n",
    "plt.imshow(wc.generate_from_frequencies(kv2))\n",
    "plt.axis('off')\n",
    "plt.show()"
   ]
  },
  {
   "cell_type": "code",
   "execution_count": null,
   "metadata": {},
   "outputs": [],
   "source": [
    "! pip install folium"
   ]
  },
  {
   "cell_type": "code",
   "execution_count": null,
   "metadata": {},
   "outputs": [],
   "source": [
    "import folium"
   ]
  },
  {
   "cell_type": "code",
   "execution_count": null,
   "metadata": {},
   "outputs": [],
   "source": [
    "help(folium.Icon)"
   ]
  }
 ],
 "metadata": {
  "kernelspec": {
   "display_name": "Python 3",
   "language": "python",
   "name": "python3"
  },
  "language_info": {
   "codemirror_mode": {
    "name": "ipython",
    "version": 3
   },
   "file_extension": ".py",
   "mimetype": "text/x-python",
   "name": "python",
   "nbconvert_exporter": "python",
   "pygments_lexer": "ipython3",
   "version": "3.10.9"
  },
  "orig_nbformat": 4
 },
 "nbformat": 4,
 "nbformat_minor": 2
}
