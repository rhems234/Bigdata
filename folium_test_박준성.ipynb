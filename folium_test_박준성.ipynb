{
 "cells": [
  {
   "cell_type": "code",
   "execution_count": null,
   "metadata": {},
   "outputs": [],
   "source": [
    "import requests\n",
    "import json\n",
    "import folium\n",
    "import pandas as pd\n",
    "r= requests.get('https://raw.githubusercontent.com/southkorea/seoul-maps/master/kostat/2013/json/seoul_municipalities_geo_simple.json')\n",
    "c = r.content\n",
    "print(c)\n",
    "seoul_geo = json.loads(c)\n",
    "seoul_geo"
   ]
  },
  {
   "cell_type": "code",
   "execution_count": null,
   "metadata": {},
   "outputs": [],
   "source": [
    "cb=pd.read_csv('data/행정구역_시군구_별__성별_인구수_20230717102216.csv')\n",
    "cb"
   ]
  },
  {
   "cell_type": "code",
   "execution_count": null,
   "metadata": {},
   "outputs": [],
   "source": [
    "latitude = 37.56667\n",
    "longitude = 126.97806\n",
    "seoul = folium.Map(location=[latitude,longitude],zoom_start=11,tiles='Stamen Toner')\n",
    "folium.GeoJson(seoul_geo,name='지역구').add_to(seoul)"
   ]
  },
  {
   "cell_type": "code",
   "execution_count": null,
   "metadata": {},
   "outputs": [],
   "source": [
    "add=pd.DataFrame(cb,columns=['행정구역시도','행정구역군구','총인구수'])\n",
    "add\n",
    "group = add.loc[add['행정구역시도']=='서울특별시',:] \n",
    "group\n",
    "group_2 = group.loc[group['행정구역군구']!='소계',:]\n",
    "group_2\n",
    "\n",
    "seoul_data = group_2.groupby('행정구역군구')['총인구수'].sum()\n",
    "seoul_data\n",
    "\n",
    "seoul.choropleth(geo_data=seoul_geo,\n",
    "             data = seoul_data,\n",
    "             fill_color='YlOrRd',\n",
    "             fill_opacity=0.7 ,\n",
    "             line_opacity=0.2,\n",
    "             key_on='properties.name',\n",
    "             legend_name ='지역구별 인구수')\n",
    "seoul"
   ]
  }
 ],
 "metadata": {
  "kernelspec": {
   "display_name": "base",
   "language": "python",
   "name": "python3"
  },
  "language_info": {
   "codemirror_mode": {
    "name": "ipython",
    "version": 3
   },
   "file_extension": ".py",
   "mimetype": "text/x-python",
   "name": "python",
   "nbconvert_exporter": "python",
   "pygments_lexer": "ipython3",
   "version": "3.10.9"
  },
  "orig_nbformat": 4
 },
 "nbformat": 4,
 "nbformat_minor": 2
}
