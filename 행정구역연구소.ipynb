{
 "cells": [
  {
   "cell_type": "code",
   "execution_count": 1,
   "metadata": {},
   "outputs": [
    {
     "name": "stdout",
     "output_type": "stream",
     "text": [
      "Collecting geopy\n",
      "  Downloading geopy-2.3.0-py3-none-any.whl (119 kB)\n",
      "     -------------------------------------- 119.8/119.8 kB 7.3 MB/s eta 0:00:00\n",
      "Collecting geographiclib<3,>=1.52\n",
      "  Downloading geographiclib-2.0-py3-none-any.whl (40 kB)\n",
      "     ---------------------------------------- 40.3/40.3 kB ? eta 0:00:00\n",
      "Installing collected packages: geographiclib, geopy\n",
      "Successfully installed geographiclib-2.0 geopy-2.3.0\n"
     ]
    },
    {
     "name": "stderr",
     "output_type": "stream",
     "text": [
      "WARNING: Ignoring invalid distribution -illow (c:\\users\\admin\\anaconda3\\lib\\site-packages)\n",
      "WARNING: Ignoring invalid distribution -illow (c:\\users\\admin\\anaconda3\\lib\\site-packages)\n",
      "WARNING: Ignoring invalid distribution -illow (c:\\users\\admin\\anaconda3\\lib\\site-packages)\n",
      "WARNING: Ignoring invalid distribution -illow (c:\\users\\admin\\anaconda3\\lib\\site-packages)\n",
      "WARNING: Ignoring invalid distribution -illow (c:\\users\\admin\\anaconda3\\lib\\site-packages)\n",
      "WARNING: Ignoring invalid distribution -illow (c:\\users\\admin\\anaconda3\\lib\\site-packages)\n",
      "WARNING: Ignoring invalid distribution -illow (c:\\users\\admin\\anaconda3\\lib\\site-packages)\n",
      "WARNING: Ignoring invalid distribution -illow (c:\\users\\admin\\anaconda3\\lib\\site-packages)\n"
     ]
    }
   ],
   "source": [
    "! pip install geopy"
   ]
  },
  {
   "cell_type": "code",
   "execution_count": 1,
   "metadata": {},
   "outputs": [],
   "source": [
    "import pandas as pd\n",
    "from geopy.geocoders import Nominatim"
   ]
  },
  {
   "cell_type": "code",
   "execution_count": 2,
   "metadata": {},
   "outputs": [
    {
     "data": {
      "text/plain": [
       "0                              서울시 강남구 학동로 211 1층  \n",
       "1                        서울시 강남구 광평로 280 수서동 724호  \n",
       "2                         서울시 강남구 논현로 566 강남차병원1층  \n",
       "3                             서울시 서초구 강남대로 369 1층  \n",
       "4                        서울 강남구 삼성동 159 코엑스몰 지하2층  \n",
       "                           ...                     \n",
       "238    인천광역시 중구 운서동 2868 인천공항 제2터미널 1층 연번(23-124)  \n",
       "239                         부산광역시 부산진구 서전로 12, 1층  \n",
       "240                     경기도 성남시 분당구 야탑로64 DS타워 1층  \n",
       "241                                서울시 용산구 한강대로95  \n",
       "242                     서울특별시 강남구 선릉로 433 세방빌딩 1층  \n",
       "Name: address, Length: 243, dtype: object"
      ]
     },
     "execution_count": 2,
     "metadata": {},
     "output_type": "execute_result"
    }
   ],
   "source": [
    "df=pd.read_csv('data/CoffeeBean.csv')\n",
    "df.address"
   ]
  },
  {
   "cell_type": "code",
   "execution_count": 3,
   "metadata": {},
   "outputs": [
    {
     "name": "stdout",
     "output_type": "stream",
     "text": [
      "학동로, 삼성동, 삼성1동, 강남구, 서울, 06078, 대한민국 (37.5199698, 127.056947)\n",
      "중앙물산, 280, 광평로, 수서동, 강남구, 서울, 06367, 대한민국 (37.487311, 127.1030943)\n",
      "논현로, 신사동, 압구정동, 신사동, 강남구, 서울, 06025, 대한민국 (37.5272651, 127.0283095)\n"
     ]
    }
   ],
   "source": [
    "\n",
    "geolocoder = Nominatim(user_agent='South Korea')\n",
    "a= ['서울특별시 강남구 학동로 211', '서울특별시 강남구 광평로 280', '서울특별시 강남구 논현로 556']\n",
    "for i, loc in enumerate(a):\n",
    "    geo=geolocoder.geocode(loc)\n",
    "    crd=(geo.latitude, geo.longitude)\n",
    "    print(geo, crd)\n",
    "    "
   ]
  }
 ],
 "metadata": {
  "kernelspec": {
   "display_name": "base",
   "language": "python",
   "name": "python3"
  },
  "language_info": {
   "codemirror_mode": {
    "name": "ipython",
    "version": 3
   },
   "file_extension": ".py",
   "mimetype": "text/x-python",
   "name": "python",
   "nbconvert_exporter": "python",
   "pygments_lexer": "ipython3",
   "version": "3.10.9"
  },
  "orig_nbformat": 4
 },
 "nbformat": 4,
 "nbformat_minor": 2
}
