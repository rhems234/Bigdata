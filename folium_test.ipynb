{
 "cells": [
  {
   "cell_type": "markdown",
   "metadata": {},
   "source": [
    "! pip install folium"
   ]
  },
  {
   "cell_type": "code",
   "execution_count": null,
   "metadata": {},
   "outputs": [],
   "source": [
    "import folium"
   ]
  },
  {
   "cell_type": "code",
   "execution_count": null,
   "metadata": {},
   "outputs": [],
   "source": [
    "help(folium.Icon)"
   ]
  },
  {
   "cell_type": "code",
   "execution_count": null,
   "metadata": {},
   "outputs": [],
   "source": [
    "m=folium.Map(location=[35.17944,129.07556], zoom_start=10)\n",
    "m.save('data/map1.html')\n",
    "m"
   ]
  },
  {
   "cell_type": "code",
   "execution_count": null,
   "metadata": {},
   "outputs": [],
   "source": [
    "# tiles : 'stamen Terrain', 'OpenStreetMap', 'Stamen Toner'\n",
    "m=folium.Map(location=[35.17944,129.07556],zoom_start=15, tiles='openStreetMap')\n",
    "m"
   ]
  },
  {
   "cell_type": "code",
   "execution_count": null,
   "metadata": {},
   "outputs": [],
   "source": [
    "help(folium.Icon)"
   ]
  },
  {
   "cell_type": "code",
   "execution_count": null,
   "metadata": {},
   "outputs": [],
   "source": [
    "latitude = 37.56667\n",
    "longitude=126.97806\n",
    "\n",
    "m=folium.Map(location=[latitude, longitude], zoom_start=15)\n",
    "folium.Marker([latitude, longitude], popup='서울시청', icon=folium.Icon(color='red', icon='info-sign'),tooltip=\"클릭해주세요\").add_to(m)\n",
    "folium.Marker([37.5658859, 126.9754788], popup='덕수궁',icon=folium.Icon(color='green', icon='home')).add_to(m)\n",
    "\n",
    "folium.Marker([37.5758859,126.9754788], popup='위',icon=folium.Icon(color='red', icon='home')).add_to(m)\n",
    "folium.Marker([37.5558859,126.9754788], popup='아래',icon=folium.Icon(color='blue', icon='star')).add_to(m)\n",
    "folium.Marker([37.5658859,126.9854788], popup='오른쪽',icon=folium.Icon(color='pink', icon='bookmark')).add_to(m)\n",
    "folium.Marker([37.5758859,126.9854788], popup='왼쪽',icon=folium.Icon(color='white', icon='flag')).add_to(m)\n",
    "m"
   ]
  },
  {
   "cell_type": "code",
   "execution_count": null,
   "metadata": {},
   "outputs": [],
   "source": [
    "m.add_child(folium.ClickForMarker(popup='aaa'))\n",
    "m"
   ]
  },
  {
   "cell_type": "code",
   "execution_count": null,
   "metadata": {},
   "outputs": [],
   "source": [
    "from folium import plugins\n",
    "import numpy as np\n",
    "n = 100\n",
    "data=np.array([np.random.uniform(low=35,high=38, size=n), np.random.uniform(low=126, high=129, size=n)]).T\n",
    "popups=[str(i) for i in range(n)]\n",
    "m=folium.Map(location=[latitude, longitude], zoom_start=7)\n",
    "plugins.MarkerCluster(data, popups=popups).add_to(m)\n",
    "m.save('data/cluster.html')\n",
    "m"
   ]
  },
  {
   "cell_type": "code",
   "execution_count": null,
   "metadata": {},
   "outputs": [],
   "source": [
    "import pandas as pd\n",
    "df=pd.read_csv('data/CCTV_20190917.csv')\n",
    "df1=df.loc[df['카메라대수']>0,['소재지도로명주소','위도','경도']]\n",
    "\n",
    "popups=df1['소재지도로명주소'].to_list()\n",
    "lat=df1['경도'].to_list()\n",
    "log=df1['위도'].to_list()\n",
    "\n",
    "data=np.array([lat,log]).T\n",
    "\n",
    "m=folium.Map(location=[35.1803305, 129.0516257], zoom_start=13)\n",
    "plugins.MarkerCluster(data, popups=popups).add_to(m)\n",
    "m"
   ]
  },
  {
   "cell_type": "code",
   "execution_count": null,
   "metadata": {},
   "outputs": [],
   "source": [
    "m=folium.Map(location=[latitude, longitude], zoom_start=12)\n",
    "folium.Marker([latitude,longitude], \\\n",
    "            popup='<iframe width=\"560\" height=\"315\" \\\n",
    "            src=\"https://www.youtube.com/embed/dpwTOQri42s\" \\\n",
    "            title=\"Youtube video player\" frameborder=\"0\" \\\n",
    "            allow=\"accelerometer; autoplay; clipboard-write; encrypted-media; gyroscope; picture-in-picture\" \\\n",
    "            allowfullscreen></iframe>',\n",
    "            tooltip=\"판교역 입구\").add_to(m)\n",
    "m"
   ]
  },
  {
   "cell_type": "code",
   "execution_count": null,
   "metadata": {},
   "outputs": [],
   "source": [
    "import requests\n",
    "import json\n",
    "r = requests.get('https://raw.githubusercontent.com/southkorea/seoul-maps/master/kostat/2013/json/seoul_municipalities_geo_simple.json')\n",
    "c= r.content\n",
    "seoul_get=json.loads(c)\n",
    "seoul_get"
   ]
  },
  {
   "cell_type": "code",
   "execution_count": null,
   "metadata": {},
   "outputs": [],
   "source": [
    "m=folium.Map(location=[latitude, longitude], zoom_start=11)\n",
    "folium.GeoJson(seoul_get, name=\"지역구\").add_to(m)\n",
    "m"
   ]
  },
  {
   "cell_type": "code",
   "execution_count": null,
   "metadata": {},
   "outputs": [],
   "source": [
    "cb=pd.read_csv('data/CoffeeBean.csv')\n",
    "add=pd.DataFrame(cb.address.apply(lambda v : v.split()[:2]).to_list(),columns=['시도','구군'])\n",
    "add.시도.unique()"
   ]
  },
  {
   "cell_type": "code",
   "execution_count": null,
   "metadata": {},
   "outputs": [],
   "source": [
    "addr_aliases={'서울':'서울특별시', '서울시':'서울특별시'}\n",
    "add['시도']=add['시도'].apply(lambda v: addr_aliases.get(v, v))\n",
    "add['시도'].unique()"
   ]
  }
 ],
 "metadata": {
  "kernelspec": {
   "display_name": "base",
   "language": "python",
   "name": "python3"
  },
  "language_info": {
   "codemirror_mode": {
    "name": "ipython",
    "version": 3
   },
   "file_extension": ".py",
   "mimetype": "text/x-python",
   "name": "python",
   "nbconvert_exporter": "python",
   "pygments_lexer": "ipython3",
   "version": "3.10.9"
  },
  "orig_nbformat": 4
 },
 "nbformat": 4,
 "nbformat_minor": 2
}
