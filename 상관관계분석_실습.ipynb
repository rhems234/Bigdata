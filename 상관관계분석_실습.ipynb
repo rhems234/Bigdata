{
 "cells": [
  {
   "cell_type": "code",
   "execution_count": null,
   "metadata": {},
   "outputs": [],
   "source": [
    "import json\n",
    "import numpy as np\n",
    "import pandas as pd\n",
    "import matplotlib.pyplot as plt\n",
    "import matplotlib\n",
    "from matplotlib import font_manager, rc"
   ]
  },
  {
   "cell_type": "code",
   "execution_count": null,
   "metadata": {},
   "outputs": [],
   "source": [
    "font_path=\"c:/Windows/Fonts/malgun.ttf\"\n",
    "font_name=font_manager.FontProperties(fname=font_path).get_name()\n",
    "rc('font', family=font_name)"
   ]
  },
  {
   "cell_type": "code",
   "execution_count": null,
   "metadata": {},
   "outputs": [],
   "source": [
    "tpFileName = 'data/서울특별시_관광지입장정보_2011_2016.json'\n",
    "jsonTP = json.loads(open(tpFileName, 'r', encoding='utf-8').read())\n",
    "tour_table=pd.DataFrame(jsonTP,columns=('yyyymm','resNm','ForNum'))\n",
    "tour_table=tour_table.set_index('yyyymm')\n",
    "tour_table"
   ]
  },
  {
   "cell_type": "code",
   "execution_count": null,
   "metadata": {},
   "outputs": [],
   "source": [
    "resNm = tour_table.resNm.unique()\n",
    "resNm"
   ]
  },
  {
   "cell_type": "code",
   "execution_count": null,
   "metadata": {},
   "outputs": [],
   "source": [
    "fv_cFileName='data/중국(112)_해외방문객정보_2011_2016.json'\n",
    "jsonFV=json.loads(open(fv_cFileName,'r',encoding='utf-8').read())\n",
    "china_table=pd.DataFrame(jsonFV,columns=('yyyymm','visit_cnt'))\n",
    "china_table = china_table.rename(columns={'visit_cnt':'china'})\n",
    "china_table = china_table.set_index('yyyymm')\n",
    "china_table"
   ]
  },
  {
   "cell_type": "code",
   "execution_count": null,
   "metadata": {},
   "outputs": [],
   "source": [
    "fv_jFileName='data/일본(130)_해외방문객정보_2011_2016.json'\n",
    "jsonFV=json.loads(open(fv_jFileName,'r',encoding='utf-8').read())\n",
    "japan_table=pd.DataFrame(jsonFV,columns=('yyyymm','visit_cnt'))\n",
    "japan_table = japan_table.rename(columns={'visit_cnt':'japan'})\n",
    "japan_table = japan_table.set_index('yyyymm')\n",
    "japan_table"
   ]
  },
  {
   "cell_type": "code",
   "execution_count": null,
   "metadata": {},
   "outputs": [],
   "source": [
    "fv_jFileName='data/미국(275)_해외방문객정보_2011_2016.json'\n",
    "jsonFV=json.loads(open(fv_jFileName,'r',encoding='utf-8').read())\n",
    "america_table=pd.DataFrame(jsonFV,columns=('yyyymm','visit_cnt'))\n",
    "america_table = america_table.rename(columns={'visit_cnt':'america'})\n",
    "america_table = america_table.set_index('yyyymm')\n",
    "america_table"
   ]
  },
  {
   "cell_type": "code",
   "execution_count": null,
   "metadata": {},
   "outputs": [],
   "source": [
    "fv_table=pd.merge(china_table, japan_table,left_index=True, right_index=True)\n",
    "fv_table"
   ]
  },
  {
   "cell_type": "code",
   "execution_count": null,
   "metadata": {},
   "outputs": [],
   "source": [
    "fv_table=pd.merge(fv_table,america_table,left_index=True,right_index=True)\n",
    "fv_table"
   ]
  },
  {
   "cell_type": "code",
   "execution_count": null,
   "metadata": {},
   "outputs": [],
   "source": [
    "def setScatterGraph(tour_table, fv_table, tourpoint):\n",
    "    tour=tour_table[tour_table['resNm']==tourpoint]\n",
    "    merge_table=pd.merge(tour,fv_table, left_index=True, right_index=True)\n",
    "    #print(merge_table)\n",
    "\n",
    "    fig=plt.figure()\n",
    "    fig.suptitle(tourpoint+\"상관관계 분석\")\n",
    "\n",
    "    plt.subplot(1,3,1)\n",
    "    plt.xlabel('중국인 입국자수')\n",
    "    plt.ylabel('외국인 입장객수')\n",
    "    r1=merge_table.china.corr(merge_table.ForNum)\n",
    "    plt.title('r={:.5f}'.format(r1))\n",
    "    plt.scatter(list(merge_table['china']), list(merge_table['ForNum']), edgecolors='None', alpha=0.75, s=6, c='black')\n",
    "\n",
    "    plt.subplot(1,3,2)\n",
    "    plt.xlabel('일본인 입국자수')\n",
    "    plt.ylabel('외국인 입장객수')\n",
    "    r2=merge_table.japan.corr(merge_table.ForNum)\n",
    "    plt.title('r={:.5f}'.format(r2))\n",
    "    plt.scatter(list(merge_table['japan']), list(merge_table['ForNum']), edgecolors='None', alpha=0.75, s=6, c='black')\n",
    "\n",
    "    plt.subplot(1,3,3)\n",
    "    plt.xlabel('미국인 입국자수')\n",
    "    plt.ylabel('외국인 입장객수')\n",
    "    r3=merge_table.america.corr(merge_table.ForNum)\n",
    "    plt.title('r={:.5f}'.format(r3))\n",
    "    plt.scatter(list(merge_table['america']), list(merge_table['ForNum']), edgecolors='None', alpha=0.75, s=6, c='black')\n",
    "\n",
    "    plt.tight_layout()\n",
    "\n",
    "    plt.show()\n",
    "    return[tour_table,r1,r2,r3]\n"
   ]
  },
  {
   "cell_type": "code",
   "execution_count": null,
   "metadata": {},
   "outputs": [],
   "source": [
    "r_list=[]\n",
    "for tourpoint in resNm:\n",
    "    r_list.append(setScatterGraph(tour_table, fv_table, tourpoint))\n",
    "\n",
    "r_table=pd.DataFrame(r_list, columns=('tourpoint', 'china','japan','america'))\n",
    "r_table"
   ]
  }
 ],
 "metadata": {
  "kernelspec": {
   "display_name": "base",
   "language": "python",
   "name": "python3"
  },
  "language_info": {
   "codemirror_mode": {
    "name": "ipython",
    "version": 3
   },
   "file_extension": ".py",
   "mimetype": "text/x-python",
   "name": "python",
   "nbconvert_exporter": "python",
   "pygments_lexer": "ipython3",
   "version": "3.10.9"
  },
  "orig_nbformat": 4
 },
 "nbformat": 4,
 "nbformat_minor": 2
}
