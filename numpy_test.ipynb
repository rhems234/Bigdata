{
 "cells": [
  {
   "cell_type": "code",
   "execution_count": null,
   "metadata": {},
   "outputs": [],
   "source": [
    "import numpy as np\n"
   ]
  },
  {
   "cell_type": "code",
   "execution_count": null,
   "metadata": {},
   "outputs": [],
   "source": [
    "a=[1,2,3,4,5]\n",
    "b= np.array(a)\n",
    "print(a, type(a))\n",
    "print(b, type(b))"
   ]
  },
  {
   "cell_type": "code",
   "execution_count": null,
   "metadata": {},
   "outputs": [],
   "source": [
    "b=np.arange(1,10,2)\n",
    "print(b, type(b), b.shape)"
   ]
  },
  {
   "cell_type": "code",
   "execution_count": null,
   "metadata": {},
   "outputs": [],
   "source": [
    "a= [[1,2,3],[4,5,6]]\n",
    "b=np.array(a)\n",
    "print(b, b.shape)"
   ]
  },
  {
   "cell_type": "code",
   "execution_count": null,
   "metadata": {},
   "outputs": [],
   "source": [
    "a=[1,2,3,4,5,6]\n",
    "b=np.array(a).reshape(2,3)\n",
    "c=np.array(a).reshape(3,2)\n",
    "print(b)\n",
    "print(c)"
   ]
  },
  {
   "cell_type": "code",
   "execution_count": null,
   "metadata": {},
   "outputs": [],
   "source": [
    "print(b[0])\n",
    "print(b[1][2])\n",
    "print(b[:,])"
   ]
  },
  {
   "cell_type": "code",
   "execution_count": null,
   "metadata": {},
   "outputs": [],
   "source": [
    "a=[[1,2,3],[4,5,6]]\n",
    "\n",
    "print(a[:],[1])"
   ]
  },
  {
   "cell_type": "code",
   "execution_count": null,
   "metadata": {},
   "outputs": [],
   "source": [
    "print(a)\n",
    "print(b)"
   ]
  },
  {
   "cell_type": "code",
   "execution_count": null,
   "metadata": {},
   "outputs": [],
   "source": [
    "print(a*2)\n",
    "print(b*2)"
   ]
  },
  {
   "cell_type": "code",
   "execution_count": null,
   "metadata": {},
   "outputs": [],
   "source": [
    "aa=[1,2,3,4]\n",
    "bb=[7,8]\n",
    "arr1=np.array(aa)\n",
    "arr2=np.array(bb)\n",
    "print(aa+bb)\n",
    "print(arr1+3)\n",
    "print(arr1-1)\n",
    "print(arr1*2)\n",
    "print(arr1/2)\n",
    "print(arr1//2)\n",
    "print(arr1**2)\n",
    "print(arr1%2)"
   ]
  },
  {
   "cell_type": "code",
   "execution_count": null,
   "metadata": {},
   "outputs": [],
   "source": [
    "a1=[[1,1,1],[2,2,2],[3,3,3]]\n",
    "a2=[1,2,3]\n",
    "b1 = np.array(a1)\n",
    "b2=np.array(a2)\n",
    "print(b1)\n",
    "print(b2)\n",
    "print(b1+b2)"
   ]
  },
  {
   "cell_type": "code",
   "execution_count": null,
   "metadata": {},
   "outputs": [],
   "source": [
    "print(b1)\n",
    "print(b1.sum())\n",
    "print(np.sum(b1))\n",
    "print(b1.sum(axis=1))\n",
    "#mean, sqrt, max, min, log"
   ]
  },
  {
   "cell_type": "code",
   "execution_count": null,
   "metadata": {},
   "outputs": [],
   "source": [
    "print(b1.mean)\n",
    "print(np.sqrt(b1))\n",
    "print(np.max(b1))\n",
    "print(np.min(b1))\n",
    "print(np.log(b1))"
   ]
  },
  {
   "cell_type": "code",
   "execution_count": null,
   "metadata": {},
   "outputs": [],
   "source": [
    "print(np.sort(arr1))\n",
    "print(np.sort(arr1, axis=1))\n",
    "print(np.sort(arr1, axis=0))\n",
    "print(np.sort(arr1, axis=0)[::-1,::])\n",
    "print(np.sort(arr1, axis=1)[::,::-1])"
   ]
  },
  {
   "cell_type": "code",
   "execution_count": null,
   "metadata": {},
   "outputs": [],
   "source": [
    "print(arr1)\n",
    "print(arr1.transpose())"
   ]
  },
  {
   "cell_type": "code",
   "execution_count": null,
   "metadata": {},
   "outputs": [],
   "source": [
    "print(arr1)\n",
    "b1=np.ones_like(arr1)\n",
    "b2=np.zeros_like(arr1)\n",
    "print(b1)\n",
    "print(b2)"
   ]
  }
 ],
 "metadata": {
  "kernelspec": {
   "display_name": "Python 3",
   "language": "python",
   "name": "python3"
  },
  "language_info": {
   "codemirror_mode": {
    "name": "ipython",
    "version": 3
   },
   "file_extension": ".py",
   "mimetype": "text/x-python",
   "name": "python",
   "nbconvert_exporter": "python",
   "pygments_lexer": "ipython3",
   "version": "3.10.9"
  },
  "orig_nbformat": 4
 },
 "nbformat": 4,
 "nbformat_minor": 2
}
