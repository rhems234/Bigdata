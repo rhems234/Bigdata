{
 "cells": [
  {
   "cell_type": "markdown",
   "metadata": {},
   "source": [
    "# T검정과 회귀분석\n",
    "- t 검정을 위해서 scipy라이브러리 패키지 사용 두 그룹간 차이 비교\n",
    "- 회귀분석 : statsmodels 라이브러리 패키지 사용"
   ]
  },
  {
   "cell_type": "code",
   "execution_count": null,
   "metadata": {},
   "outputs": [],
   "source": [
    "! pip install statsmodels"
   ]
  },
  {
   "cell_type": "code",
   "execution_count": null,
   "metadata": {},
   "outputs": [],
   "source": [
    "from scipy import stats # T 검정에 필요\n",
    "# 회귀 분석에 필요한 statsmodels.formula.api 패키지의 ols, glm 함수를 로드\n",
    "# ols : 최소승자법 OLS : Ordinary least Squares)는 잔차제곱합 (RSS: Residual Sum of Squares)를 \n",
    "# 최소화하는 가중치 벡터를 구하는 방법\n",
    "from statsmodels.formula.api import ols, glm \n",
    "import pandas as pd"
   ]
  },
  {
   "cell_type": "code",
   "execution_count": null,
   "metadata": {},
   "outputs": [],
   "source": [
    "red_df=pd.read_csv('data/winequality-red1.csv')\n",
    "white_df=pd.read_csv('data/winequality-white1.csv')\n",
    "wine=pd.concat([red_df, white_df])\n",
    "\n",
    "wine.columns = wine.columns.str.replace(' ','_')\n",
    "wine.head()"
   ]
  },
  {
   "cell_type": "code",
   "execution_count": null,
   "metadata": {},
   "outputs": [],
   "source": [
    "red_df.insert(0, column='type', value='red')\n",
    "white_df.insert(0,column='type', value='white')\n",
    "print(red_df.head())\n",
    "print(white_df.head())"
   ]
  },
  {
   "cell_type": "code",
   "execution_count": null,
   "metadata": {},
   "outputs": [],
   "source": [
    "wine = pd.concat([red_df, white_df])\n",
    "wine.info()"
   ]
  },
  {
   "cell_type": "code",
   "execution_count": null,
   "metadata": {},
   "outputs": [],
   "source": [
    "wine.to_csv('data/wine.csv',index=False)"
   ]
  },
  {
   "cell_type": "code",
   "execution_count": null,
   "metadata": {},
   "outputs": [],
   "source": [
    "red_wine_quality=wine.loc[wine['type']=='red','quality']\n",
    "white_wine_quality=wine.loc[wine['type']=='white','quality']\n",
    "print(red_wine_quality[:10])\n",
    "print(white_wine_quality[:10])"
   ]
  },
  {
   "cell_type": "code",
   "execution_count": null,
   "metadata": {},
   "outputs": [],
   "source": [
    "stats.ttest_ind(red_wine_quality, white_wine_quality, equal_var = False)"
   ]
  },
  {
   "cell_type": "code",
   "execution_count": null,
   "metadata": {},
   "outputs": [],
   "source": [
    "Rformula = 'quality ~ fixed_acidity + volatile_acidity + citric_acid + \\\n",
    "        residual_sugar + chlorides + free_sulfur_dioxide + total_sulfur_dioxide + \\\n",
    "        density + pH + sulphates + alcohol'\n",
    "# y = a1x1 + a2xa2"
   ]
  },
  {
   "cell_type": "code",
   "execution_count": null,
   "metadata": {},
   "outputs": [],
   "source": [
    "regression_result=ols(Rformula, data=wine).fit()"
   ]
  },
  {
   "cell_type": "code",
   "execution_count": null,
   "metadata": {},
   "outputs": [],
   "source": [
    "regression_result.summary()"
   ]
  },
  {
   "cell_type": "code",
   "execution_count": null,
   "metadata": {},
   "outputs": [],
   "source": [
    "sample1 = wine[wine.columns.difference(['quality','type'])]\n",
    "sample1[:5]"
   ]
  },
  {
   "cell_type": "code",
   "execution_count": null,
   "metadata": {},
   "outputs": [],
   "source": [
    "sample1_predict=regression_result.predict(sample1)"
   ]
  },
  {
   "cell_type": "code",
   "execution_count": null,
   "metadata": {},
   "outputs": [],
   "source": [
    "print(sample1_predict[:5])\n",
    "print(wine['quality'][:5])"
   ]
  },
  {
   "cell_type": "code",
   "execution_count": null,
   "metadata": {},
   "outputs": [],
   "source": [
    "data = {\n",
    "    \"fixed_acidity\" : [8.5, 8.1], \n",
    "    \"volatile_acidity\":[0.8, 0.5],\n",
    "    \"citric_acid\":[0.3, 0.4], \n",
    "    \"residual_sugar\":[6.1, 5.8], \n",
    "    \"chlorides\":[0.055, 0.04], \n",
    "    \"free_sulfur_dioxide\":[30.0, 31.0], \n",
    "    \"total_sulfur_dioxide\":[98.0,99], \n",
    "    \"density\":[0.996, 0.91], \n",
    "    \"pH\":[3.25, 3.01], \n",
    "    \"sulphates\":[0.4, 0.35],\n",
    "    \"alcohol\":[9.0, 0.88]}"
   ]
  },
  {
   "cell_type": "code",
   "execution_count": null,
   "metadata": {},
   "outputs": [],
   "source": [
    "sample2 = pd.DataFrame(data,columns=sample1.columns)"
   ]
  },
  {
   "cell_type": "code",
   "execution_count": null,
   "metadata": {},
   "outputs": [],
   "source": [
    "sample2_predict=regression_result.predict(sample2)\n",
    "print(sample2_predict)"
   ]
  },
  {
   "cell_type": "markdown",
   "metadata": {},
   "source": [
    "# 분석결과 시각화\n",
    "- 커널 밀도 추정(kde)를 적용한 히스토그램 그리기"
   ]
  },
  {
   "cell_type": "code",
   "execution_count": null,
   "metadata": {},
   "outputs": [],
   "source": [
    "import matplotlib.pyplot as plt\n",
    "import seaborn as sns"
   ]
  },
  {
   "cell_type": "code",
   "execution_count": null,
   "metadata": {},
   "outputs": [],
   "source": [
    "# 히스토그램 차트 배경 스타일 설정\n",
    "sns.set_style('dark')"
   ]
  },
  {
   "cell_type": "code",
   "execution_count": null,
   "metadata": {},
   "outputs": [],
   "source": [
    "# distplot -> histplot\n",
    "sns.histplot(data=red_wine_quality, kde=True, color=\"red\", label='red_wine')\n",
    "sns.histplot(data=white_wine_quality, kde=True, color=\"blue\", label='white_wine')\n",
    "plt.title('Quality of wine Type')\n",
    "plt.legend('best')\n",
    "plt.show()"
   ]
  },
  {
   "cell_type": "markdown",
   "metadata": {},
   "source": [
    "# 부분 회귀 플롯으로 시각화하기\n",
    "- 독립변수가 2개 이상인 경우 부분회귀플롯을 사용하여 하나의 독립변수가 종속변수에 미치는 여햑력을 시각화하여 분석할 수 있음.\n",
    "- plot_partregress(endog, exog_i, exog_others, data=None, obs_labels=True, ret_coords=False)\n",
    "    - endog : 종속변수 분자열\n",
    "    - exog_i : 분석 대상이 되는 독립변수 문자열리스트\n",
    "    - exog_others : 나머지 독립변수 문자열의 리스트\n",
    "    - data : 모든 데이터가 있는 데이터프레임\n",
    "    - obs_labels : 데이터 라벨링 여부\n",
    "    - ret_coords: 잔차 데이터 반환여부"
   ]
  },
  {
   "cell_type": "code",
   "execution_count": null,
   "metadata": {},
   "outputs": [],
   "source": [
    "# 부분회귀계산을 위해 로드\n",
    "import statsmodels.api as sm"
   ]
  },
  {
   "cell_type": "code",
   "execution_count": null,
   "metadata": {},
   "outputs": [],
   "source": [
    "# fixed_acidity가 종속변수 quality에 미치는 영향을 시각화하기\n",
    "# 부분 회귀에 사용한 독립변수와 종속 변수를 제외한 나머지 변수 리스트를 others변수에 저장\n",
    "others=list(set(wine.columns).difference(set(['quality', 'fixed_acidity'])))\n",
    "print(others)"
   ]
  },
  {
   "cell_type": "code",
   "execution_count": null,
   "metadata": {},
   "outputs": [],
   "source": [
    "p, resids=sm.graphics.plot_partregress('quality','fixed_acidity', others, data=wine, ret_coords=True, obs_labels=False)\n",
    "\n",
    "plt.show()"
   ]
  },
  {
   "cell_type": "code",
   "execution_count": null,
   "metadata": {},
   "outputs": [],
   "source": [
    "fig=plt.figure(figsize=(8,13))\n",
    "sm.graphics.plot_partregress_grid(regression_result)"
   ]
  }
 ],
 "metadata": {
  "kernelspec": {
   "display_name": "base",
   "language": "python",
   "name": "python3"
  },
  "language_info": {
   "codemirror_mode": {
    "name": "ipython",
    "version": 3
   },
   "file_extension": ".py",
   "mimetype": "text/x-python",
   "name": "python",
   "nbconvert_exporter": "python",
   "pygments_lexer": "ipython3",
   "version": "3.10.9"
  },
  "orig_nbformat": 4
 },
 "nbformat": 4,
 "nbformat_minor": 2
}
