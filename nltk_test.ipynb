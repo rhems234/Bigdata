{
 "cells": [
  {
   "cell_type": "code",
   "execution_count": 1,
   "metadata": {},
   "outputs": [],
   "source": [
    "import nltk"
   ]
  },
  {
   "cell_type": "markdown",
   "metadata": {},
   "source": [
    "# 말뭉치 가져오기"
   ]
  },
  {
   "cell_type": "code",
   "execution_count": 2,
   "metadata": {},
   "outputs": [
    {
     "name": "stdout",
     "output_type": "stream",
     "text": [
      "*** Introductory Examples for the NLTK Book ***\n",
      "Loading text1, ..., text9 and sent1, ..., sent9\n",
      "Type the name of the text or sentence to view it.\n",
      "Type: 'texts()' or 'sents()' to list the materials.\n",
      "text1: Moby Dick by Herman Melville 1851\n",
      "text2: Sense and Sensibility by Jane Austen 1811\n",
      "text3: The Book of Genesis\n",
      "text4: Inaugural Address Corpus\n",
      "text5: Chat Corpus\n",
      "text6: Monty Python and the Holy Grail\n",
      "text7: Wall Street Journal\n",
      "text8: Personals Corpus\n",
      "text9: The Man Who Was Thursday by G . K . Chesterton 1908\n"
     ]
    }
   ],
   "source": [
    "nltk.download('book',quiet=True)\n",
    "from nltk.book import *"
   ]
  },
  {
   "cell_type": "code",
   "execution_count": 3,
   "metadata": {},
   "outputs": [
    {
     "data": {
      "text/plain": [
       "['austen-emma.txt',\n",
       " 'austen-persuasion.txt',\n",
       " 'austen-sense.txt',\n",
       " 'bible-kjv.txt',\n",
       " 'blake-poems.txt',\n",
       " 'bryant-stories.txt',\n",
       " 'burgess-busterbrown.txt',\n",
       " 'carroll-alice.txt',\n",
       " 'chesterton-ball.txt',\n",
       " 'chesterton-brown.txt',\n",
       " 'chesterton-thursday.txt',\n",
       " 'edgeworth-parents.txt',\n",
       " 'melville-moby_dick.txt',\n",
       " 'milton-paradise.txt',\n",
       " 'shakespeare-caesar.txt',\n",
       " 'shakespeare-hamlet.txt',\n",
       " 'shakespeare-macbeth.txt',\n",
       " 'whitman-leaves.txt']"
      ]
     },
     "execution_count": 3,
     "metadata": {},
     "output_type": "execute_result"
    }
   ],
   "source": [
    "nltk.corpus.gutenberg.fileids()"
   ]
  },
  {
   "cell_type": "code",
   "execution_count": 4,
   "metadata": {},
   "outputs": [
    {
     "data": {
      "text/plain": [
       "\"[Emma by Jane Austen 1816]\\n\\nVOLUME I\\n\\nCHAPTER I\\n\\n\\nEmma Woodhouse, handsome, clever, and rich, with a comfortable home\\nand happy disposition, seemed to unite some of the best blessings\\nof existence; and had lived nearly twenty-one years in the world\\nwith very little to distress or vex her.\\n\\nShe was the youngest of the two daughters of a most affectionate,\\nindulgent father; and had, in consequence of her sister's marriage,\\nbeen mistress of his house from a very early period.  Her mother\\nhad died too long ago for her to have more than an indistinct\\nremembrance of her caresses; and her place had been supplied\\nby an excellent woman as governess, who had fallen little short\\nof a mother in affection.\\n\\nSixteen years had Miss Taylor been in Mr. Woodhouse's family,\\nless as a governess than a friend, very fond of both daughters,\\nbut particularly of Emma.  Between _them_ it was more the intimacy\\nof sisters.  Even before Miss Taylor had ceased to hold the nominal\\noffice of governess, the mildness o\""
      ]
     },
     "execution_count": 4,
     "metadata": {},
     "output_type": "execute_result"
    }
   ],
   "source": [
    "emma_raw = nltk.corpus.gutenberg.raw('austen-emma.txt')\n",
    "emma_raw[:1000]"
   ]
  },
  {
   "cell_type": "markdown",
   "metadata": {},
   "source": [
    "# 토큰 생성\n",
    "- 자연어 문서에서 분석을 위해 긴 문자열을 작은 단위로 나누는 것\n",
    "- 문장 단위, 단어 단위, 정규표현 식으로 나눌 수 있음"
   ]
  },
  {
   "cell_type": "code",
   "execution_count": 5,
   "metadata": {},
   "outputs": [
    {
     "name": "stdout",
     "output_type": "stream",
     "text": [
      "She was the youngest of the two daughters of a most affectionate,\n",
      "indulgent father; and had, in consequence of her sister's marriage,\n",
      "been mistress of his house from a very early period.\n"
     ]
    }
   ],
   "source": [
    "# 문장단위 토큰 생성\n",
    "from nltk.tokenize import sent_tokenize\n",
    "print(sent_tokenize(emma_raw[:10000])[1]) #2번째 문장"
   ]
  },
  {
   "cell_type": "code",
   "execution_count": 6,
   "metadata": {},
   "outputs": [
    {
     "name": "stdout",
     "output_type": "stream",
     "text": [
      "['Emma', 'Woodhouse', ',', 'handsome', ',', 'clever', ',', 'and', 'rich', ',', 'with', 'a']\n"
     ]
    }
   ],
   "source": [
    "# 단어단위 토큰 생성\n",
    "from nltk.tokenize import word_tokenize\n",
    "print(word_tokenize(emma_raw[50:100]))"
   ]
  },
  {
   "cell_type": "code",
   "execution_count": 7,
   "metadata": {},
   "outputs": [
    {
     "data": {
      "text/plain": [
       "['Emma', 'Woodhouse', 'handsome', 'clever', 'and', 'rich', 'with', 'a']"
      ]
     },
     "execution_count": 7,
     "metadata": {},
     "output_type": "execute_result"
    }
   ],
   "source": [
    "# 정규표현 생성\n",
    "from nltk.tokenize import RegexpTokenizer\n",
    "retTokenize = RegexpTokenizer(\"[\\w]+\")\n",
    "retTokenize.tokenize(emma_raw[50:100])"
   ]
  },
  {
   "cell_type": "markdown",
   "metadata": {},
   "source": [
    "# 형태소 분석\n",
    "- 형태소 : 언어학에서 일정한 의미가 있는 가장 작은 말의 단위\n",
    "- 보통 자연어 처리에서 토큰을 형태소를 이용\n",
    "- 형태소 분석 : 단어로부터 어근, 접두사 접미사, 품사 등 다양한 언어적 속성을 파악하고\n",
    "이를 이용하여 형태소를 찾아내거나 처리하는 작업\n",
    "- 형태소 분석의 예 \n",
    "    - 어간 추출 \n",
    "    - 원형 복원\n",
    "    - 품사 부착\n",
    "    "
   ]
  },
  {
   "cell_type": "markdown",
   "metadata": {},
   "source": [
    "#  어간 추출 \n",
    "- PorterStemmer, LandcasterStemmer 제공\n",
    "- 어간 추출은 단순히 어미만 제거함"
   ]
  },
  {
   "cell_type": "code",
   "execution_count": 8,
   "metadata": {},
   "outputs": [
    {
     "name": "stdout",
     "output_type": "stream",
     "text": [
      "Porter stemmer: ['fli', 'file', 'fli', 'flew', 'flown']\n",
      "LancasterStemmer: ['fly', 'fil', 'fly', 'flew', 'flown']\n"
     ]
    }
   ],
   "source": [
    "from nltk.stem import PorterStemmer, LancasterStemmer\n",
    "\n",
    "st1 = PorterStemmer()\n",
    "st2 = LancasterStemmer()\n",
    "\n",
    "words = ['fly','files','flying','flew','flown']\n",
    "print(\"Porter stemmer:\",[st1.stem(w) for w in words])\n",
    "print(\"LancasterStemmer:\",[st2.stem(w) for w in words])"
   ]
  },
  {
   "cell_type": "code",
   "execution_count": 9,
   "metadata": {},
   "outputs": [
    {
     "name": "stdout",
     "output_type": "stream",
     "text": [
      "['fli', 'file', 'fli', 'flew', 'flown']\n"
     ]
    }
   ],
   "source": [
    "list1 = []\n",
    "for w in words:\n",
    "    list1.append(st1.stem(w))\n",
    "print(list1)"
   ]
  },
  {
   "cell_type": "code",
   "execution_count": 10,
   "metadata": {},
   "outputs": [
    {
     "name": "stdout",
     "output_type": "stream",
     "text": [
      "['fli', 'file', 'fli', 'flew', 'flown']\n"
     ]
    }
   ],
   "source": [
    "list2=[st1.stem(w) for w in words]\n",
    "print(list1)"
   ]
  },
  {
   "cell_type": "markdown",
   "metadata": {},
   "source": [
    "# 원형복원\n",
    "- 같은 의미를 가지는 여러 단어를 사전형으로 통일하는 작업"
   ]
  },
  {
   "cell_type": "code",
   "execution_count": 11,
   "metadata": {},
   "outputs": [
    {
     "name": "stderr",
     "output_type": "stream",
     "text": [
      "[nltk_data] Downloading package omw-1.4 to\n",
      "[nltk_data]     C:\\Users\\admin\\AppData\\Roaming\\nltk_data...\n",
      "[nltk_data]   Package omw-1.4 is already up-to-date!\n"
     ]
    },
    {
     "data": {
      "text/plain": [
       "True"
      ]
     },
     "execution_count": 11,
     "metadata": {},
     "output_type": "execute_result"
    }
   ],
   "source": [
    "from nltk.stem import WordNetLemmatizer\n",
    "nltk.download('omw-1.4')"
   ]
  },
  {
   "cell_type": "code",
   "execution_count": 12,
   "metadata": {},
   "outputs": [
    {
     "data": {
      "text/plain": [
       "['fly', 'file', 'fly', 'fly', 'fly']"
      ]
     },
     "execution_count": 12,
     "metadata": {},
     "output_type": "execute_result"
    }
   ],
   "source": [
    "lm=WordNetLemmatizer()\n",
    "[lm.lemmatize(w,'v') for w in words]"
   ]
  },
  {
   "cell_type": "markdown",
   "metadata": {},
   "source": [
    "# 품사부착\n",
    "- 품사는 낱말을 문법적인 기능이나 형태, 듯에 따라 구분한 것\n",
    "- 품사의 예\n",
    "    - NNP : 단순고유명사\n",
    "    - VB : 동사\n",
    "    - VBP : 동사현재형\n",
    "    - NN : 명사\n",
    "    - DT : 관형사"
   ]
  },
  {
   "cell_type": "code",
   "execution_count": 13,
   "metadata": {},
   "outputs": [
    {
     "data": {
      "text/plain": [
       "[('Emma', 'NNP'),\n",
       " ('refused', 'VBD'),\n",
       " ('to', 'TO'),\n",
       " ('permit', 'VB'),\n",
       " ('us', 'PRP'),\n",
       " ('to', 'TO'),\n",
       " ('obtain', 'VB'),\n",
       " ('the', 'DT'),\n",
       " ('redfuse', 'NN'),\n",
       " ('permit', 'NN')]"
      ]
     },
     "execution_count": 13,
     "metadata": {},
     "output_type": "execute_result"
    }
   ],
   "source": [
    "from nltk.tag import pos_tag\n",
    "sentence='Emma refused to permit us to obtain the redfuse permit'\n",
    "tagged_list = pos_tag(word_tokenize(sentence))\n",
    "tagged_list"
   ]
  },
  {
   "cell_type": "code",
   "execution_count": 14,
   "metadata": {},
   "outputs": [
    {
     "data": {
      "text/plain": [
       "['redfuse', 'permit']"
      ]
     },
     "execution_count": 14,
     "metadata": {},
     "output_type": "execute_result"
    }
   ],
   "source": [
    "noun_list = [t[0] for t in tagged_list if t[1]==\"NN\"]\n",
    "noun_list"
   ]
  },
  {
   "cell_type": "code",
   "execution_count": 15,
   "metadata": {},
   "outputs": [
    {
     "data": {
      "text/plain": [
       "['_', '_', '_', '_', '_', '_', '_', '_', 'redfuse', 'permit']"
      ]
     },
     "execution_count": 15,
     "metadata": {},
     "output_type": "execute_result"
    }
   ],
   "source": [
    "list1=[]\n",
    "for t in tagged_list :\n",
    "    if t[1]=='NN':\n",
    "        list1.append(t[0])\n",
    "    else :\n",
    "        list1.append('_')\n",
    "list1"
   ]
  },
  {
   "cell_type": "code",
   "execution_count": 16,
   "metadata": {},
   "outputs": [
    {
     "data": {
      "text/plain": [
       "['-', '-', '-', '-', '-', '-', '-', '-', 'redfuse', 'permit']"
      ]
     },
     "execution_count": 16,
     "metadata": {},
     "output_type": "execute_result"
    }
   ],
   "source": [
    "noun_list1=[t[0] if t[1]=='NN' else '-' for t in tagged_list]\n",
    "noun_list1"
   ]
  },
  {
   "cell_type": "code",
   "execution_count": 17,
   "metadata": {},
   "outputs": [
    {
     "data": {
      "text/plain": [
       "['Emma',\n",
       " 'refused',\n",
       " 'to',\n",
       " 'permit',\n",
       " 'us',\n",
       " 'to',\n",
       " 'obtain',\n",
       " 'the',\n",
       " 'redfuse',\n",
       " 'permit']"
      ]
     },
     "execution_count": 17,
     "metadata": {},
     "output_type": "execute_result"
    }
   ],
   "source": [
    "from nltk.tag import untag\n",
    "untag_list = untag(tagged_list)\n",
    "untag_list"
   ]
  },
  {
   "cell_type": "markdown",
   "metadata": {},
   "source": [
    "# Text 클래스\n",
    "- 문서 분석에 유용한 메소드 제공"
   ]
  },
  {
   "cell_type": "code",
   "execution_count": 18,
   "metadata": {},
   "outputs": [
    {
     "name": "stdout",
     "output_type": "stream",
     "text": [
      "<Text: Emma by Jane Austen 1816 VOLUME I CHAPTER...>\n"
     ]
    }
   ],
   "source": [
    "from nltk import Text\n",
    "text = Text(retTokenize.tokenize(emma_raw))\n",
    "print(text)"
   ]
  },
  {
   "cell_type": "code",
   "execution_count": 19,
   "metadata": {},
   "outputs": [
    {
     "data": {
      "image/png": "[encoded data removed]",
      "text/plain": [
       "<Figure size 640x480 with 1 Axes>"
      ]
     },
     "metadata": {},
     "output_type": "display_data"
    }
   ],
   "source": [
    "import matplotlib.pyplot as plt\n",
    "text.plot(10)\n",
    "plt.show()"
   ]
  },
  {
   "cell_type": "code",
   "execution_count": 20,
   "metadata": {},
   "outputs": [
    {
     "data": {
      "image/png": "[encoded data removed]",
      "text/plain": [
       "<Figure size 640x480 with 1 Axes>"
      ]
     },
     "metadata": {},
     "output_type": "display_data"
    }
   ],
   "source": [
    "text.dispersion_plot(['Emma','Knightley','Frank','Jane','Harriet','Robert'])"
   ]
  },
  {
   "cell_type": "code",
   "execution_count": 21,
   "metadata": {},
   "outputs": [],
   "source": [
    "#concordance : 단어가 사용된 위치를 직접 표시하ㅁ, 문맥의 정보를 보여줌"
   ]
  },
  {
   "cell_type": "code",
   "execution_count": 22,
   "metadata": {},
   "outputs": [
    {
     "name": "stdout",
     "output_type": "stream",
     "text": [
      "Displaying 25 of 865 matches:\n",
      " Emma by Jane Austen 1816 VOLUME I CHAPTER\n",
      " Jane Austen 1816 VOLUME I CHAPTER I Emma Woodhouse handsome clever and rich w\n",
      "f both daughters but particularly of Emma Between _them_ it was more the intim\n",
      "nd friend very mutually attached and Emma doing just what she liked highly est\n",
      " by her own The real evils indeed of Emma s situation were the power of having\n",
      "ding day of this beloved friend that Emma first sat in mournful thought of any\n",
      "going only half a mile from them but Emma was aware that great must be the dif\n",
      "a day It was a melancholy change and Emma could not but sigh over it and wish \n",
      "ll the rest of her life at Hartfield Emma smiled and chatted as cheerfully as \n",
      "l be able to tell her how we all are Emma spared no exertions to maintain this\n",
      "or I have a great regard for you and Emma but when it comes to the question of\n",
      "a fanciful troublesome creature said Emma playfully That is what you have in y\n",
      "e few people who could see faults in Emma Woodhouse and the only one who ever \n",
      "is was not particularly agreeable to Emma herself she knew it would be so much\n",
      " being thought perfect by every body Emma knows I never flatter her said Mr Kn\n",
      " that she must be a gainer Well said Emma willing to let it pass you want to h\n",
      " were sure of meeting every day Dear Emma bears every thing so well said her f\n",
      "l_ miss her more than she thinks for Emma turned away her head divided between\n",
      "ars and smiles It is impossible that Emma should not miss such a companion sai\n",
      "rgotten one matter of joy to me said Emma and a very considerable one that I m\n",
      "lf than good to them by interference Emma never thinks of herself if she can d\n",
      "ch better thing Invite him to dinner Emma and help him to the best of the fish\n",
      " and could not think without pain of Emma s losing a single pleasure or suffer\n",
      "nt of her companionableness but dear Emma was of no feeble character she was m\n",
      "ent was so just and so apparent that Emma well as she knew her father was some\n"
     ]
    }
   ],
   "source": [
    "text.concordance('Emma') "
   ]
  },
  {
   "cell_type": "code",
   "execution_count": 23,
   "metadata": {},
   "outputs": [],
   "source": [
    "# similar : 같은 문맥에서 주어진 단어 대신 사용된 회수가 높은 단어를 찾아줌"
   ]
  },
  {
   "cell_type": "code",
   "execution_count": 24,
   "metadata": {},
   "outputs": [
    {
     "name": "stdout",
     "output_type": "stream",
     "text": [
      "she it he i harriet you her jane him that me and all they them herself\n",
      "there but be isabella\n"
     ]
    }
   ],
   "source": [
    "text.similar(\"Emma\")"
   ]
  },
  {
   "cell_type": "code",
   "execution_count": 25,
   "metadata": {},
   "outputs": [
    {
     "name": "stdout",
     "output_type": "stream",
     "text": [
      "('The following word(s) were not found:', 'j a n e')\n"
     ]
    }
   ],
   "source": [
    "text.common_contexts('Jane','her')"
   ]
  },
  {
   "cell_type": "markdown",
   "metadata": {},
   "source": [
    "# FreqDist\n",
    "- 문서에 사용된 단어(토큰)의 사용빈도 정보를 담는 클래스\n",
    "- vocab() 메소드로 추출"
   ]
  },
  {
   "cell_type": "code",
   "execution_count": 26,
   "metadata": {},
   "outputs": [
    {
     "data": {
      "text/plain": [
       "nltk.probability.FreqDist"
      ]
     },
     "execution_count": 26,
     "metadata": {},
     "output_type": "execute_result"
    }
   ],
   "source": [
    "fd = text.vocab()\n",
    "type(fd)"
   ]
  },
  {
   "cell_type": "code",
   "execution_count": 27,
   "metadata": {},
   "outputs": [],
   "source": [
    "from nltk import FreqDist\n",
    "stopwords= ['Mr','Mr.s','Miss','Mr','Mrs','Dear','A','No','Ah','Oh']\n",
    "emma_token = pos_tag(retTokenize.tokenize(emma_raw))\n",
    "name_list=[t[0] for t in emma_token if t[1]=='NNP' and t[0] not in stopwords] "
   ]
  },
  {
   "cell_type": "code",
   "execution_count": 28,
   "metadata": {},
   "outputs": [
    {
     "data": {
      "text/plain": [
       "['Jane',\n",
       " 'Austen',\n",
       " 'VOLUME',\n",
       " 'Emma',\n",
       " 'Woodhouse',\n",
       " 'Sixteen',\n",
       " 'Taylor',\n",
       " 'Woodhouse',\n",
       " 'Emma',\n",
       " 'Between',\n",
       " 'Taylor',\n",
       " 'Emma',\n",
       " 'Taylor',\n",
       " 'Emma',\n",
       " 'Sorrow',\n",
       " 'Taylor',\n",
       " 'Taylor',\n",
       " 'Emma',\n",
       " 'Weston',\n",
       " 'Taylor',\n",
       " 'Isabella',\n",
       " 'How',\n",
       " 'Emma',\n",
       " 'Weston',\n",
       " 'Taylor',\n",
       " 'Woodhouse',\n",
       " 'Her',\n",
       " 'London',\n",
       " 'October',\n",
       " 'November',\n",
       " 'Hartfield',\n",
       " 'Christmas',\n",
       " 'Isabella',\n",
       " 'Highbury',\n",
       " 'Hartfield',\n",
       " 'Taylor',\n",
       " 'Emma',\n",
       " 'Matrimony',\n",
       " 'Taylor',\n",
       " 'Taylor',\n",
       " 'Hartfield',\n",
       " 'Emma',\n",
       " 'Poor',\n",
       " 'Taylor',\n",
       " 'Weston',\n",
       " 'Weston',\n",
       " 'Taylor',\n",
       " 'How',\n",
       " 'Randalls',\n",
       " 'James',\n",
       " 'Weston',\n",
       " 'Weston',\n",
       " 'James',\n",
       " 'Randalls',\n",
       " 'Hannah',\n",
       " 'Nobody',\n",
       " 'Hannah',\n",
       " 'James',\n",
       " 'James',\n",
       " 'Whenever',\n",
       " 'Taylor',\n",
       " 'Whenever',\n",
       " 'James',\n",
       " 'Emma',\n",
       " 'Knightley',\n",
       " 'Isabella',\n",
       " 'Highbury',\n",
       " 'London',\n",
       " 'Hartfield',\n",
       " 'Brunswick',\n",
       " 'Square',\n",
       " 'Woodhouse',\n",
       " 'Knightley',\n",
       " 'Isabella',\n",
       " 'Woodhouse',\n",
       " 'Knightley',\n",
       " 'Dirty',\n",
       " 'Look',\n",
       " 'Well',\n",
       " 'Who',\n",
       " 'Taylor',\n",
       " 'Tis',\n",
       " 'Poor',\n",
       " 'Woodhouse',\n",
       " 'Taylor',\n",
       " 'Emma',\n",
       " 'Emma',\n",
       " 'Woodhouse',\n",
       " 'My',\n",
       " '_you_',\n",
       " 'Knightley',\n",
       " '_you_',\n",
       " 'Knightley',\n",
       " 'Knightley',\n",
       " 'Emma',\n",
       " 'Woodhouse',\n",
       " 'Emma',\n",
       " 'Knightley',\n",
       " 'Taylor',\n",
       " 'Well',\n",
       " 'Emma',\n",
       " 'Every',\n",
       " 'Emma',\n",
       " 'Knightley',\n",
       " 'Taylor',\n",
       " 'Emma',\n",
       " 'Emma',\n",
       " 'Knightley',\n",
       " 'Taylor',\n",
       " 'Taylor',\n",
       " 'Every',\n",
       " 'Taylor',\n",
       " 'Emma',\n",
       " 'Weston',\n",
       " 'Knightley',\n",
       " 'Pray',\n",
       " 'Weston',\n",
       " 'Weston',\n",
       " 'Weston',\n",
       " 'Weston',\n",
       " 'Ever',\n",
       " 'Taylor',\n",
       " 'Broadway',\n",
       " 'Lane',\n",
       " 'Farmer',\n",
       " 'Mitchell',\n",
       " 'Knightley',\n",
       " 'Success',\n",
       " 'Taylor',\n",
       " 'Weston',\n",
       " 'Where',\n",
       " 'Weston',\n",
       " 'Hartfield',\n",
       " 'Weston',\n",
       " 'Taylor',\n",
       " 'Emma',\n",
       " 'Woodhouse',\n",
       " 'Elton',\n",
       " 'Poor',\n",
       " 'Elton',\n",
       " 'Elton',\n",
       " 'Highbury',\n",
       " 'Elton',\n",
       " 'Elton',\n",
       " 'Knightley',\n",
       " 'Knightley',\n",
       " 'Invite',\n",
       " 'Emma',\n",
       " 'Depend',\n",
       " 'CHAPTER',\n",
       " 'II',\n",
       " 'Weston',\n",
       " 'Highbury',\n",
       " 'Captain',\n",
       " 'Weston',\n",
       " 'Churchill',\n",
       " 'Yorkshire',\n",
       " 'Churchill',\n",
       " 'Churchill',\n",
       " 'Churchill',\n",
       " 'Weston',\n",
       " 'Enscombe',\n",
       " 'Captain',\n",
       " 'Weston',\n",
       " 'Churchill',\n",
       " 'Enscombe',\n",
       " 'Captain',\n",
       " 'Weston',\n",
       " 'Churchills',\n",
       " 'Churchill',\n",
       " 'Frank',\n",
       " 'Churchills',\n",
       " 'London',\n",
       " 'Highbury',\n",
       " 'Highbury',\n",
       " 'Taylor',\n",
       " 'Taylor',\n",
       " 'Randalls',\n",
       " 'Randalls',\n",
       " 'Frank',\n",
       " 'Churchill',\n",
       " 'Weston',\n",
       " 'London',\n",
       " 'Highbury',\n",
       " 'Frank',\n",
       " 'Churchill',\n",
       " 'Highbury',\n",
       " 'Perry',\n",
       " 'Bates',\n",
       " 'Bates',\n",
       " 'Frank',\n",
       " 'Churchill',\n",
       " 'Highbury',\n",
       " 'Weston',\n",
       " 'Frank',\n",
       " 'Churchill',\n",
       " 'Weston',\n",
       " 'Woodhouse',\n",
       " 'Woodhouse',\n",
       " 'Weston',\n",
       " 'Emma',\n",
       " 'Emma',\n",
       " 'Randalls',\n",
       " 'Hartfield',\n",
       " 'Weston',\n",
       " 'Weston',\n",
       " 'Emma',\n",
       " 'Taylor',\n",
       " 'Randalls',\n",
       " 'Woodhouse',\n",
       " 'Taylor',\n",
       " 'Taylor',\n",
       " 'Woodhouse',\n",
       " 'Perry',\n",
       " 'Perry',\n",
       " 'Woodhouse',\n",
       " 'Woodhouse',\n",
       " 'Highbury',\n",
       " 'Perrys',\n",
       " 'Weston',\n",
       " 'Woodhouse',\n",
       " 'CHAPTER',\n",
       " 'III',\n",
       " 'Woodhouse',\n",
       " 'Hartfield',\n",
       " 'Highbury',\n",
       " 'Randalls',\n",
       " 'Donwell',\n",
       " 'Abbey',\n",
       " 'Knightley',\n",
       " 'Emma',\n",
       " 'Emma',\n",
       " 'Real',\n",
       " 'Knightley',\n",
       " 'Elton',\n",
       " 'Woodhouse',\n",
       " 'Bates',\n",
       " 'Goddard',\n",
       " 'Hartfield',\n",
       " 'Woodhouse',\n",
       " 'James',\n",
       " 'Highbury',\n",
       " 'Bates',\n",
       " 'Woodhouse',\n",
       " 'Goddard',\n",
       " 'School',\n",
       " 'Boarding',\n",
       " 'Goddard',\n",
       " 'Highbury',\n",
       " 'Woodhouse',\n",
       " 'Emma',\n",
       " 'Weston',\n",
       " 'Goddard',\n",
       " 'Smith',\n",
       " 'Smith',\n",
       " 'Emma',\n",
       " 'Harriet',\n",
       " 'Smith',\n",
       " 'Somebody',\n",
       " 'Goddard',\n",
       " 'Highbury',\n",
       " 'Emma',\n",
       " 'Emma',\n",
       " 'Smith',\n",
       " 'Hartfield',\n",
       " 'Encouragement',\n",
       " 'Highbury',\n",
       " 'Martin',\n",
       " 'Emma',\n",
       " 'Knightley',\n",
       " 'Donwell',\n",
       " 'Knightley',\n",
       " '_She_',\n",
       " 'Woodhouses',\n",
       " 'Bates',\n",
       " 'Serle',\n",
       " 'Emma',\n",
       " 'Goddard',\n",
       " '_small_',\n",
       " 'Smith',\n",
       " 'Woodhouse',\n",
       " 'Highbury',\n",
       " 'Woodhouse',\n",
       " 'CHAPTER',\n",
       " 'IV',\n",
       " 'Harriet',\n",
       " 'Smith',\n",
       " 'Hartfield',\n",
       " 'Quick',\n",
       " 'Emma',\n",
       " 'Emma',\n",
       " 'Weston',\n",
       " 'Weston',\n",
       " 'Randalls',\n",
       " 'Harriet',\n",
       " 'Smith',\n",
       " 'Harriet',\n",
       " 'Her',\n",
       " 'Altogether',\n",
       " 'Harriet',\n",
       " 'Smith',\n",
       " 'Weston',\n",
       " 'Weston',\n",
       " 'Harriet',\n",
       " 'Weston',\n",
       " 'Harriet',\n",
       " 'Harriet',\n",
       " 'Emma',\n",
       " 'Harriet',\n",
       " 'Goddard',\n",
       " 'Goddard',\n",
       " 'Martins',\n",
       " 'Abbey',\n",
       " 'Mill',\n",
       " 'Farm',\n",
       " 'Martins',\n",
       " 'Emma',\n",
       " 'Martin',\n",
       " 'Goddard',\n",
       " 'Alderneys',\n",
       " 'Welch',\n",
       " 'Welch',\n",
       " 'Martin',\n",
       " 'Martin',\n",
       " 'Martin',\n",
       " 'Harriet',\n",
       " 'Martin',\n",
       " 'Harriet',\n",
       " 'Martin',\n",
       " 'Well',\n",
       " 'Martin',\n",
       " 'Emma',\n",
       " 'Martin',\n",
       " 'Goddard',\n",
       " 'Goddard',\n",
       " 'Goddard',\n",
       " 'Sunday',\n",
       " 'Nash',\n",
       " 'Prince',\n",
       " 'Richardson',\n",
       " 'Martin',\n",
       " 'Agricultural',\n",
       " 'Reports',\n",
       " 'Elegant',\n",
       " 'Vicar',\n",
       " 'Wakefield',\n",
       " 'Romance',\n",
       " 'Forest',\n",
       " 'Children',\n",
       " 'Abbey',\n",
       " 'Martin',\n",
       " 'Highbury',\n",
       " 'Kingston',\n",
       " 'June',\n",
       " 'Six',\n",
       " 'Woodhouse',\n",
       " 'Well',\n",
       " 'Martin',\n",
       " 'Martin',\n",
       " 'Harriet',\n",
       " 'Hartfield',\n",
       " 'Woodhouse',\n",
       " 'Harriet',\n",
       " 'Hartfield',\n",
       " 'Woodhouse',\n",
       " 'Martin',\n",
       " 'Yes',\n",
       " 'Martin',\n",
       " 'Martins',\n",
       " 'Elizabeth',\n",
       " 'Emma',\n",
       " 'Harriet',\n",
       " 'Martin',\n",
       " 'Donwell',\n",
       " 'Emma',\n",
       " 'Robert',\n",
       " 'Martin',\n",
       " 'Harriet',\n",
       " 'Harriet',\n",
       " 'Martin',\n",
       " 'Woodhouse',\n",
       " 'Harriet',\n",
       " 'Woodhouse',\n",
       " 'Randalls',\n",
       " 'Randalls',\n",
       " 'Romance',\n",
       " 'Forest',\n",
       " 'Kingston',\n",
       " 'Well',\n",
       " 'Woodhouse',\n",
       " 'Harriet',\n",
       " 'Martin',\n",
       " 'Hartfield',\n",
       " 'Martin',\n",
       " 'Were',\n",
       " 'Knightley',\n",
       " 'Knightley',\n",
       " 'Knightley',\n",
       " 'Knightley',\n",
       " 'Martin',\n",
       " '_him_',\n",
       " '_gentleman_',\n",
       " 'Knightley',\n",
       " 'Weston',\n",
       " 'Elton',\n",
       " 'Compare',\n",
       " 'Martin',\n",
       " '_them_',\n",
       " 'Compare',\n",
       " 'Weston',\n",
       " 'Weston',\n",
       " 'Which',\n",
       " 'Harriet',\n",
       " 'Martin',\n",
       " 'Weston',\n",
       " 'Harriet',\n",
       " 'Will',\n",
       " 'Harriet',\n",
       " 'Emma',\n",
       " 'Her',\n",
       " 'Elton',\n",
       " 'Knightley',\n",
       " 'Weston',\n",
       " 'Weston',\n",
       " 'Neither',\n",
       " 'Knightley',\n",
       " 'Elton',\n",
       " 'Elton',\n",
       " 'Harriet',\n",
       " 'Did',\n",
       " 'Elton',\n",
       " 'Harriet',\n",
       " 'Elton',\n",
       " 'Elton',\n",
       " 'Emma',\n",
       " 'Harriet',\n",
       " 'Harriet',\n",
       " 'Hartfield',\n",
       " 'Elton',\n",
       " 'Harriet',\n",
       " 'Emma',\n",
       " 'Highbury',\n",
       " 'Harriet',\n",
       " 'Hartfield',\n",
       " 'Harriet',\n",
       " 'Robert',\n",
       " 'Martin',\n",
       " 'Elton',\n",
       " 'CHAPTER',\n",
       " 'V',\n",
       " 'Weston',\n",
       " 'Knightley',\n",
       " 'Emma',\n",
       " 'Harriet',\n",
       " 'Smith',\n",
       " 'Do',\n",
       " 'Emma',\n",
       " 'Harriet',\n",
       " 'Harriet',\n",
       " 'Emma',\n",
       " 'Emma',\n",
       " 'Knightley',\n",
       " 'Weston',\n",
       " 'Weston',\n",
       " 'Emma',\n",
       " 'Highbury',\n",
       " 'Knightley',\n",
       " 'Harriet',\n",
       " 'Smith',\n",
       " 'Emma',\n",
       " 'Emma',\n",
       " 'Emma',\n",
       " 'Emma',\n",
       " 'Where',\n",
       " 'Taylor',\n",
       " 'Harriet',\n",
       " 'Smith',\n",
       " 'Weston',\n",
       " 'Emma',\n",
       " 'Knightley',\n",
       " 'Emma',\n",
       " 'Isabella',\n",
       " 'Emma',\n",
       " 'Knightley',\n",
       " 'Woodhouse',\n",
       " 'Yes',\n",
       " 'Hartfield',\n",
       " 'Emma',\n",
       " 'Weston',\n",
       " 'Taylor',\n",
       " 'Thank',\n",
       " 'Weston',\n",
       " 'Weston',\n",
       " 'Knightley',\n",
       " 'Emma',\n",
       " 'Weston',\n",
       " 'Churchill',\n",
       " 'Harriet',\n",
       " 'Smith',\n",
       " 'Harriet',\n",
       " 'Smith',\n",
       " 'Emma',\n",
       " 'Emma',\n",
       " 'Her',\n",
       " 'How',\n",
       " 'Harriet',\n",
       " 'Harriet',\n",
       " 'Hartfield',\n",
       " 'Emma',\n",
       " 'Emma',\n",
       " 'How',\n",
       " 'Emma',\n",
       " 'Pretty',\n",
       " 'Emma',\n",
       " 'Emma',\n",
       " 'Knightley',\n",
       " 'Considering',\n",
       " 'Weston',\n",
       " 'Harriet',\n",
       " 'Smith',\n",
       " 'Knightley',\n",
       " 'Emma',\n",
       " 'Emma',\n",
       " 'Christmas',\n",
       " 'John',\n",
       " 'Isabella',\n",
       " 'John',\n",
       " 'Emma',\n",
       " 'Isabella',\n",
       " 'Knightley',\n",
       " 'Emma',\n",
       " 'Harriet',\n",
       " 'Smith',\n",
       " 'Emma',\n",
       " 'Knightley',\n",
       " 'John',\n",
       " 'Knightley',\n",
       " 'Be',\n",
       " 'Emma',\n",
       " 'Isabella',\n",
       " 'Emma',\n",
       " 'So',\n",
       " 'Weston',\n",
       " 'Emma',\n",
       " 'Weston',\n",
       " 'Hartfield',\n",
       " 'Woodhouse',\n",
       " 'Emma',\n",
       " 'Part',\n",
       " 'Weston',\n",
       " 'Randalls',\n",
       " 'Emma',\n",
       " 'Knightley',\n",
       " 'Weston',\n",
       " 'Hartfield',\n",
       " 'CHAPTER',\n",
       " 'VI',\n",
       " 'Emma',\n",
       " 'Harriet',\n",
       " 'Elton',\n",
       " 'Harriet',\n",
       " 'Elton',\n",
       " 'Harriet',\n",
       " 'Harriet',\n",
       " 'Hartfield',\n",
       " 'Smith',\n",
       " 'Harriet',\n",
       " 'Elton',\n",
       " 'Exactly',\n",
       " 'Skilful',\n",
       " 'Great',\n",
       " 'Harriet',\n",
       " 'Did',\n",
       " 'Harriet',\n",
       " 'Harriet',\n",
       " 'Emma',\n",
       " 'Harriet',\n",
       " 'Elton',\n",
       " 'Let',\n",
       " 'Woodhouse',\n",
       " 'How',\n",
       " 'Weston',\n",
       " 'Randalls',\n",
       " 'Yes',\n",
       " 'Emma',\n",
       " 'Don',\n",
       " 'Keep',\n",
       " 'Harriet',\n",
       " 'Well',\n",
       " 'Elton',\n",
       " 'Harriet',\n",
       " 'Pray',\n",
       " 'Elton',\n",
       " 'Harriet',\n",
       " 'Did',\n",
       " 'How',\n",
       " 'Harriet',\n",
       " 'Emma',\n",
       " 'Harriet',\n",
       " 'Her',\n",
       " 'Miniatures',\n",
       " 'Woodhouse',\n",
       " 'Emma',\n",
       " 'Weston',\n",
       " 'Weston',\n",
       " 'Henry',\n",
       " 'John',\n",
       " 'Bella',\n",
       " 'George',\n",
       " 'John',\n",
       " 'Knightley',\n",
       " 'Weston',\n",
       " 'Isabella',\n",
       " 'Yes',\n",
       " 'Brunswick',\n",
       " 'Square',\n",
       " 'Harriet',\n",
       " '_at_',\n",
       " '_present_',\n",
       " 'Elton',\n",
       " 'Emma',\n",
       " 'John',\n",
       " 'Knightley',\n",
       " 'Harriet',\n",
       " 'Elton',\n",
       " 'Smith',\n",
       " 'Elton',\n",
       " 'Harriet',\n",
       " 'Emma',\n",
       " 'Elton',\n",
       " 'Harriet',\n",
       " 'Elton',\n",
       " 'Every',\n",
       " 'Elton',\n",
       " 'Woodhouse',\n",
       " 'Weston',\n",
       " 'Smith',\n",
       " 'Emma',\n",
       " 'Knightley',\n",
       " 'Emma',\n",
       " 'Elton',\n",
       " 'Consider',\n",
       " 'Smith',\n",
       " 'Woodhouse',\n",
       " 'So',\n",
       " 'Just',\n",
       " 'Look',\n",
       " 'Elton',\n",
       " 'Smith',\n",
       " 'Any',\n",
       " 'Smith',\n",
       " 'London',\n",
       " 'Isabella',\n",
       " 'December',\n",
       " 'Woodhouse',\n",
       " 'December',\n",
       " 'Elton',\n",
       " 'Might',\n",
       " 'London',\n",
       " 'Elton',\n",
       " 'London',\n",
       " 'Emma',\n",
       " 'Emma',\n",
       " 'Harriet',\n",
       " 'Harriet',\n",
       " 'CHAPTER',\n",
       " 'VII',\n",
       " 'Elton',\n",
       " 'London',\n",
       " 'Emma',\n",
       " 'Harriet',\n",
       " 'Hartfield',\n",
       " 'Goddard',\n",
       " 'Martin',\n",
       " 'Elizabeth',\n",
       " 'Martin',\n",
       " 'Who',\n",
       " 'Yes',\n",
       " 'Woodhouse',\n",
       " 'Emma',\n",
       " 'Harriet',\n",
       " 'Pray',\n",
       " 'Harriet',\n",
       " 'Well',\n",
       " 'Yes',\n",
       " 'Emma',\n",
       " 'Harriet',\n",
       " 'Vigorous',\n",
       " 'Harriet',\n",
       " 'Well',\n",
       " 'Harriet',\n",
       " 'Yes',\n",
       " 'Woodhouse',\n",
       " 'Harriet',\n",
       " 'Ought',\n",
       " 'Harriet',\n",
       " 'Are',\n",
       " 'Harriet',\n",
       " 'Emma',\n",
       " 'Pray',\n",
       " 'Woodhouse',\n",
       " 'Harriet',\n",
       " 'Harriet',\n",
       " 'Emma',\n",
       " 'Harriet',\n",
       " 'Emma',\n",
       " 'Martin',\n",
       " 'Harriet',\n",
       " 'Does',\n",
       " 'Harriet',\n",
       " 'Harriet',\n",
       " 'Harriet',\n",
       " 'Emma',\n",
       " 'Harriet',\n",
       " 'Woodhouse',\n",
       " 'Martin',\n",
       " 'Perfectly',\n",
       " 'Harriet',\n",
       " 'Harriet',\n",
       " 'Martin',\n",
       " 'Robert',\n",
       " 'Martin',\n",
       " 'Abbey',\n",
       " 'Mill',\n",
       " 'Farm',\n",
       " 'Harriet',\n",
       " 'Woodhouse',\n",
       " 'How',\n",
       " 'Hartfield',\n",
       " 'Abbey',\n",
       " 'Mill',\n",
       " 'Farm',\n",
       " '_You_',\n",
       " 'Harriet',\n",
       " '_one_',\n",
       " 'Martin',\n",
       " 'Thank',\n",
       " 'Emma',\n",
       " 'Emma',\n",
       " 'Emma',\n",
       " 'Harriet',\n",
       " 'Emma',\n",
       " 'Elton',\n",
       " 'Abbey',\n",
       " 'Mill',\n",
       " 'Harriet',\n",
       " 'Hartfield',\n",
       " 'Abbey',\n",
       " 'Mill',\n",
       " 'Hartfield',\n",
       " 'Goddard',\n",
       " 'Nash',\n",
       " 'Nash',\n",
       " 'Harriet',\n",
       " 'Nash',\n",
       " 'Highbury',\n",
       " 'Hitherto',\n",
       " 'Harriet',\n",
       " 'Elton',\n",
       " 'Martin',\n",
       " 'Emma',\n",
       " 'Elton',\n",
       " 'My',\n",
       " 'Bond',\n",
       " 'Has',\n",
       " 'Elton',\n",
       " 'Harriet',\n",
       " 'Bond',\n",
       " 'How',\n",
       " 'Harriet',\n",
       " 'CHAPTER',\n",
       " 'VIII',\n",
       " 'Harriet',\n",
       " 'Hartfield',\n",
       " 'Emma',\n",
       " 'Goddard',\n",
       " 'Hartfield',\n",
       " 'Knightley',\n",
       " 'Woodhouse',\n",
       " 'Emma',\n",
       " 'till',\n",
       " 'Woodhouse',\n",
       " 'Knightley',\n",
       " 'Knightley',\n",
       " 'Well',\n",
       " 'Knightley',\n",
       " 'Emma',\n",
       " 'Knightley',\n",
       " 'Emma',\n",
       " 'Knightley',\n",
       " 'Donwell',\n",
       " 'Abbey',\n",
       " 'Thank',\n",
       " '_you_',\n",
       " 'Woodhouse',\n",
       " 'Knightley',\n",
       " 'Harriet',\n",
       " 'Emma',\n",
       " 'Come',\n",
       " 'Thank',\n",
       " 'Almost',\n",
       " 'Something',\n",
       " 'Highbury',\n",
       " 'Tiresome',\n",
       " 'Harriet',\n",
       " 'Who',\n",
       " 'Emma',\n",
       " 'Elton',\n",
       " 'Knightley',\n",
       " 'Elton',\n",
       " 'Harriet',\n",
       " 'Smith',\n",
       " 'Robert',\n",
       " 'Martin',\n",
       " 'Her',\n",
       " 'Abbey',\n",
       " 'Mill',\n",
       " 'Emma',\n",
       " 'Harriet',\n",
       " 'Will',\n",
       " 'Abbey',\n",
       " 'Robert',\n",
       " 'Martin',\n",
       " 'Goddard',\n",
       " 'Pray',\n",
       " 'Knightley',\n",
       " 'Emma',\n",
       " 'Martin',\n",
       " 'Was',\n",
       " 'Come',\n",
       " 'Knightley',\n",
       " 'Harriet',\n",
       " 'Smith',\n",
       " 'Robert',\n",
       " 'Martin',\n",
       " 'Emma',\n",
       " 'Martin',\n",
       " 'Harriet',\n",
       " 'Knightley',\n",
       " 'Emma',\n",
       " 'Smith',\n",
       " 'Robert',\n",
       " 'Martin',\n",
       " 'My',\n",
       " 'Highbury',\n",
       " 'Emma',\n",
       " 'Harriet',\n",
       " 'Emma',\n",
       " 'Martin',\n",
       " 'Harriet',\n",
       " 'Martin',\n",
       " 'Robert',\n",
       " 'Martin',\n",
       " 'Whoever',\n",
       " 'Knightley',\n",
       " 'Goddard',\n",
       " 'Goddard',\n",
       " 'Goddard',\n",
       " 'Her',\n",
       " 'Till',\n",
       " 'Harriet',\n",
       " 'Smith',\n",
       " 'Emma',\n",
       " 'Robert',\n",
       " 'Martin',\n",
       " 'Emma',\n",
       " 'Martin',\n",
       " 'Harriet',\n",
       " 'Harriet',\n",
       " 'Harriet',\n",
       " 'Her',\n",
       " 'Emma',\n",
       " 'Better',\n",
       " 'Harriet',\n",
       " 'Harriet',\n",
       " 'Were',\n",
       " 'Knightley',\n",
       " 'Harriet',\n",
       " 'Vanity',\n",
       " 'Nothing',\n",
       " 'Harriet',\n",
       " 'Smith',\n",
       " 'Men',\n",
       " 'Let',\n",
       " 'Robert',\n",
       " 'Martin',\n",
       " 'Goddard',\n",
       " 'Harriet',\n",
       " 'Smith',\n",
       " 'Knightley',\n",
       " '_letting_',\n",
       " 'Robert',\n",
       " 'Martin',\n",
       " 'Abbey',\n",
       " 'Mill',\n",
       " 'Harriet',\n",
       " 'Nonsense',\n",
       " 'Knightley',\n",
       " 'Robert',\n",
       " 'Martin',\n",
       " 'Harriet',\n",
       " 'Smith',\n",
       " 'Emma',\n",
       " 'Emma',\n",
       " 'Robert',\n",
       " 'Martin',\n",
       " 'Harriet',\n",
       " 'Elton',\n",
       " 'Emma',\n",
       " 'Depend',\n",
       " 'Elton',\n",
       " 'Elton',\n",
       " 'Highbury',\n",
       " 'Elton',\n",
       " 'Harriet',\n",
       " 'Emma',\n",
       " 'Elton',\n",
       " 'Harriet',\n",
       " 'Harriet',\n",
       " 'Randalls',\n",
       " 'Emma',\n",
       " 'Emma',\n",
       " 'Knightley',\n",
       " 'Harriet',\n",
       " 'Harriet',\n",
       " 'Goddard',\n",
       " 'Harriet',\n",
       " 'Harriet',\n",
       " 'Knightley',\n",
       " 'Elton',\n",
       " 'Knightley',\n",
       " 'Knightley',\n",
       " 'Elton',\n",
       " 'Elton',\n",
       " 'Knightley',\n",
       " 'Knightley',\n",
       " 'Elton',\n",
       " 'Harriet',\n",
       " 'Martin',\n",
       " 'Elton',\n",
       " 'Nash',\n",
       " 'Perry',\n",
       " 'Goddard',\n",
       " 'Nash',\n",
       " 'Nash',\n",
       " 'Clayton',\n",
       " 'Park',\n",
       " 'Elton',\n",
       " 'Elton',\n",
       " 'London',\n",
       " 'Perry',\n",
       " 'Elton',\n",
       " 'Perry',\n",
       " 'Elton',\n",
       " 'Nash',\n",
       " 'Elton',\n",
       " 'Elton',\n",
       " 'Elton',\n",
       " 'CHAPTER',\n",
       " 'IX',\n",
       " 'Knightley',\n",
       " 'Emma',\n",
       " 'Hartfield',\n",
       " 'Picture',\n",
       " 'Elton',\n",
       " 'Harriet',\n",
       " 'Emma',\n",
       " 'Martin',\n",
       " 'Elton',\n",
       " 'Her',\n",
       " 'Harriet',\n",
       " 'Harriet',\n",
       " 'Nash',\n",
       " 'Goddard',\n",
       " 'Harriet',\n",
       " 'Woodhouse',\n",
       " 'Harriet',\n",
       " 'Woodhouse',\n",
       " 'So',\n",
       " 'Kitty',\n",
       " 'Perry',\n",
       " 'Perry',\n",
       " 'Highbury',\n",
       " 'Elton',\n",
       " 'My',\n",
       " 'Which',\n",
       " 'Elton',\n",
       " 'Woodhouse',\n",
       " 'Smith',\n",
       " 'Emma',\n",
       " 'Smith',\n",
       " 'Being',\n",
       " 'Emma',\n",
       " 'Harriet',\n",
       " 'Emma',\n",
       " 'Take',\n",
       " 'Emma',\n",
       " 'Harriet',\n",
       " 'Harriet',\n",
       " 'Emma',\n",
       " ...]"
      ]
     },
     "execution_count": 28,
     "metadata": {},
     "output_type": "execute_result"
    }
   ],
   "source": [
    "name_list"
   ]
  },
  {
   "cell_type": "code",
   "execution_count": 29,
   "metadata": {},
   "outputs": [
    {
     "data": {
      "text/plain": [
       "FreqDist({'Emma': 830, 'Harriet': 491, 'Weston': 439, 'Knightley': 389, 'Elton': 385, 'Woodhouse': 304, 'Jane': 299, 'Fairfax': 241, 'Churchill': 223, 'Frank': 208, ...})"
      ]
     },
     "execution_count": 29,
     "metadata": {},
     "output_type": "execute_result"
    }
   ],
   "source": [
    "fd_name = FreqDist(name_list)\n",
    "fd_name"
   ]
  },
  {
   "cell_type": "code",
   "execution_count": 30,
   "metadata": {},
   "outputs": [
    {
     "name": "stdout",
     "output_type": "stream",
     "text": [
      "7511\n",
      "830\n",
      "0.11050459326321395\n"
     ]
    }
   ],
   "source": [
    "print(fd_name.N()) # 전체 단어의 수 \n",
    "print(fd_name['Emma']) # 주어진 단어에 해당하는 빈도수\n",
    "print(fd_name.freq('Emma')) # 단어의 출현 확률"
   ]
  },
  {
   "cell_type": "code",
   "execution_count": 31,
   "metadata": {},
   "outputs": [
    {
     "data": {
      "text/plain": [
       "[('Emma', 830),\n",
       " ('Harriet', 491),\n",
       " ('Weston', 439),\n",
       " ('Knightley', 389),\n",
       " ('Elton', 385),\n",
       " ('Woodhouse', 304),\n",
       " ('Jane', 299),\n",
       " ('Fairfax', 241),\n",
       " ('Churchill', 223),\n",
       " ('Frank', 208)]"
      ]
     },
     "execution_count": 31,
     "metadata": {},
     "output_type": "execute_result"
    }
   ],
   "source": [
    "fd_name.most_common(10) # 발생빈도 높은 10가지"
   ]
  },
  {
   "cell_type": "code",
   "execution_count": 32,
   "metadata": {},
   "outputs": [
    {
     "name": "stdout",
     "output_type": "stream",
     "text": [
      "Requirement already satisfied: pillow in c:\\users\\admin\\anaconda3\\lib\\site-packages (10.0.0)\n"
     ]
    },
    {
     "name": "stderr",
     "output_type": "stream",
     "text": [
      "WARNING: Ignoring invalid distribution -illow (c:\\users\\admin\\anaconda3\\lib\\site-packages)\n",
      "WARNING: Ignoring invalid distribution -illow (c:\\users\\admin\\anaconda3\\lib\\site-packages)\n",
      "WARNING: Ignoring invalid distribution -illow (c:\\users\\admin\\anaconda3\\lib\\site-packages)\n",
      "WARNING: Ignoring invalid distribution -illow (c:\\users\\admin\\anaconda3\\lib\\site-packages)\n",
      "WARNING: Ignoring invalid distribution -illow (c:\\users\\admin\\anaconda3\\lib\\site-packages)\n",
      "WARNING: Ignoring invalid distribution -illow (c:\\users\\admin\\anaconda3\\lib\\site-packages)\n"
     ]
    }
   ],
   "source": [
    "! pip install pillow --upgrade\n",
    "\n",
    "# pip install wordcloud"
   ]
  },
  {
   "cell_type": "code",
   "execution_count": 33,
   "metadata": {},
   "outputs": [],
   "source": [
    "from wordcloud import WordCloud\n",
    "from PIL import Image\n",
    "import numpy as np"
   ]
  },
  {
   "cell_type": "code",
   "execution_count": 39,
   "metadata": {},
   "outputs": [],
   "source": [
    "im = Image.open('data/img.png')\n",
    "mask_arr=np.array(im)"
   ]
  },
  {
   "cell_type": "code",
   "execution_count": 40,
   "metadata": {},
   "outputs": [
    {
     "data": {
      "image/png": "[encoded data removed]",
      "text/plain": [
       "<Figure size 640x480 with 1 Axes>"
      ]
     },
     "metadata": {},
     "output_type": "display_data"
    }
   ],
   "source": [
    "wc=WordCloud(width=1000, height=800, background_color='white', random_state=0,mask=mask_arr)\n",
    "plt.imshow(wc.generate_from_frequencies(fd_name))\n",
    "plt.axis('off')\n",
    "plt.savefig('data/wc.png')\n",
    "plt.show()"
   ]
  }
 ],
 "metadata": {
  "kernelspec": {
   "display_name": "base",
   "language": "python",
   "name": "python3"
  },
  "language_info": {
   "codemirror_mode": {
    "name": "ipython",
    "version": 3
   },
   "file_extension": ".py",
   "mimetype": "text/x-python",
   "name": "python",
   "nbconvert_exporter": "python",
   "pygments_lexer": "ipython3",
   "version": "3.10.9"
  },
  "orig_nbformat": 4
 },
 "nbformat": 4,
 "nbformat_minor": 2
}
