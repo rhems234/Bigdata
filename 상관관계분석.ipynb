{
 "cells": [
  {
   "cell_type": "code",
   "execution_count": null,
   "metadata": {},
   "outputs": [],
   "source": [
    "import numpy as np\n",
    "import pandas as pd\n",
    "import matplotlib.pyplot as plt\n",
    "import seaborn as sns\n",
    "from matplotlib import font_manager, rc\n",
    "import matplotlib"
   ]
  },
  {
   "cell_type": "code",
   "execution_count": null,
   "metadata": {},
   "outputs": [],
   "source": [
    "fontname='c:/Windows/Fonts/malgun.ttf'\n",
    "font_name=font_manager.FontProperties(fname=fontname).get_name()\n",
    "rc('font',family=font_name)\n",
    "plt.figure(figsize=(6,4))"
   ]
  },
  {
   "cell_type": "code",
   "execution_count": null,
   "metadata": {},
   "outputs": [],
   "source": [
    "키=[100,120,130,140,150,160,170,180,190]\n",
    "발크기 =[200,205,201,220,230,250,270,280,285]\n",
    "plt.scatter(키, 발크기)\n",
    "plt.xlabel('키(cm)')\n",
    "plt.ylabel('발크기(inchi)')\n",
    "plt.show()"
   ]
  },
  {
   "cell_type": "code",
   "execution_count": null,
   "metadata": {},
   "outputs": [],
   "source": [
    "df=pd.DataFrame({'키':키, '발크기' : 발크기})\n",
    "sns.relplot(x='키', y='발크기',data=df)\n",
    "print(df.키.corr(df.발크기))\n",
    "plt.show()"
   ]
  },
  {
   "cell_type": "code",
   "execution_count": null,
   "metadata": {},
   "outputs": [],
   "source": [
    "h=[100,200,300,400,500,600,700,800,900]\n",
    "t=[18.0,17.5,17,16.5,15,14.5,13,12,11]\n",
    "df=pd.DataFrame({'h':h, 't':t})\n",
    "print(df.h.corr(df.t))\n",
    "plt.scatter(h,t)\n",
    "sns.relplot(x=h, y=t, data=df)"
   ]
  },
  {
   "cell_type": "code",
   "execution_count": null,
   "metadata": {},
   "outputs": [],
   "source": [
    "x=np.random.randint(0,100,50)\n",
    "y=np.random.randint(0,100,50)\n",
    "df=pd.DataFrame({'x':x, 'y':y})\n",
    "print(df.x.corr(df.y))\n",
    "sns.regplot(x=x,y=y,data=df)"
   ]
  },
  {
   "cell_type": "code",
   "execution_count": null,
   "metadata": {},
   "outputs": [],
   "source": [
    "tips=sns.load_dataset('tips')\n",
    "print(tips.total_bill, tips.tip)\n",
    "sns.relplot(x='total_bill',y='tip',data=tips)"
   ]
  },
  {
   "cell_type": "markdown",
   "metadata": {},
   "source": [
    "# 상관관계분석과 상관계수\n",
    "- 상관관계분석: 두 변수사이의 상관정도를 분석하는 것\n",
    "- 상관계수: 두 변수 상관관계 강도를 나타내는 것\n",
    "\n",
    "- 상관계수(기호:r)\n",
    " --1<= r <= 1 의값을 가짐 "
   ]
  },
  {
   "cell_type": "code",
   "execution_count": null,
   "metadata": {},
   "outputs": [],
   "source": [
    "import math\n",
    "\n",
    "def correlation(x,y):\n",
    "    n=len(x)\n",
    "    x_sum=0.0\n",
    "    y_sum=0.0\n",
    "    x_sum_pow=0.0\n",
    "    y_sum_pow=0.0\n",
    "    mul_xy_sum=0.0\n",
    "\n",
    "    for i in range(n):\n",
    "        mul_xy_sum = mul_xy_sum + float(x[i]) * float(y[i])\n",
    "        x_sum = x_sum + float(x[i])\n",
    "        y_sum = y_sum + float(y[i])\n",
    "        x_sum_pow = x_sum_pow = pow(float(x[i]), 2)\n",
    "        y_sum_pow = y_sum_pow = pow(float(y[i]), 2)\n",
    "\n",
    "        try:\n",
    "            r = ((n*mul_xy_sum)-(x_sum*y_sum)) / math.sqrt(((n*x_sum_pow)- pow(x_sum,2)) * ((n*y_sum_pow) - pow(y_sum,2)))\n",
    "\n",
    "        except:\n",
    "            r=0.0\n",
    "    return r\n"
   ]
  },
  {
   "cell_type": "code",
   "execution_count": null,
   "metadata": {},
   "outputs": [],
   "source": [
    "print('상관관계 분석 : ' , correlation(키, 발크기))\n",
    "print('산의 높이와 기온사이 상관관계 분석 : ', correlation(t, h))\n",
    "print('random 발생 값 상관관계 분석:' ,correlation(x, y))"
   ]
  },
  {
   "cell_type": "code",
   "execution_count": null,
   "metadata": {},
   "outputs": [],
   "source": [
    "height=[100,120,130,140,150,160,170,180,190]\n",
    "foot_size =[200,205,201,220,230,250,270,280,285]\n",
    "weight = [25, 30, 38,35,40,45,55,68,70]\n",
    "list=[height,foot_size,weight]\n",
    "list\n",
    "column_names=['height','foot_size','weight']\n",
    "df=pd.DataFrame(list).T\n",
    "df.columns=column_names\n",
    "print(df['height'].corr(df['foot_size']))\n",
    "print(df['height'].corr(df['weight']))\n",
    "print(df['weight'].corr(df['foot_size']))\n",
    "corr=df.corr()\n",
    "print(corr)"
   ]
  },
  {
   "cell_type": "markdown",
   "metadata": {},
   "source": [
    "# 상관관계 시각화\n",
    "- scatter : 두 변수 사이의 상관관계 시각화\n",
    "- relplot : 두 변수 사이의 상관관계 시각화\n",
    "- heatmap : 데이터프레임 필드사이의 상관관계 시각화"
   ]
  },
  {
   "cell_type": "code",
   "execution_count": null,
   "metadata": {},
   "outputs": [],
   "source": [
    "corr_heatmap=sns.heatmap(corr, # value\n",
    "                        cbar=True, # 사이브바 표시 ,defalut True\n",
    "                        annot=True,  # 값 표시\n",
    "                        annot_kws={'size':20}, #annot의 글자크기\n",
    "                        fmt='.2f', # 숫자형식\n",
    "                        square=True, # 정사각형여부\n",
    "                        cmap='RdYlBu_r', # 색상\n",
    "                        vmin=0.95, # 최소값\n",
    "                        vmax=1 #최대값\n",
    "                        )"
   ]
  },
  {
   "cell_type": "code",
   "execution_count": null,
   "metadata": {},
   "outputs": [],
   "source": [
    "tips=sns.load_dataset('tips')\n",
    "tips_corr=tips.corr()\n",
    "tips_corr"
   ]
  },
  {
   "cell_type": "code",
   "execution_count": null,
   "metadata": {},
   "outputs": [],
   "source": [
    "tips_corr_heatmap= sns.heatmap(tips_corr,\n",
    "                              cbar=True,\n",
    "                              annot=True,\n",
    "                              cmap='RdYlBu_r')"
   ]
  },
  {
   "cell_type": "code",
   "execution_count": null,
   "metadata": {},
   "outputs": [],
   "source": [
    "import numpy as np\n",
    "fig_ax = plt.subplots(figsize=(7,7))\n",
    "mask=np.zeros_like(tips_corr, dtype=np.bool)\n",
    "#print(mask)\n",
    "mask[np.triu_indices_from(mask)] = True\n",
    "print(mask)"
   ]
  },
  {
   "cell_type": "code",
   "execution_count": null,
   "metadata": {},
   "outputs": [],
   "source": [
    "tips_corr_heatmap = sns.heatmap(tips_corr,\n",
    "                                annot=True,\n",
    "                                mask=mask,\n",
    "                                linewidths=0.5,\n",
    "                                cmap='RdYlBu_r')"
   ]
  }
 ],
 "metadata": {
  "kernelspec": {
   "display_name": "base",
   "language": "python",
   "name": "python3"
  },
  "language_info": {
   "codemirror_mode": {
    "name": "ipython",
    "version": 3
   },
   "file_extension": ".py",
   "mimetype": "text/x-python",
   "name": "python",
   "nbconvert_exporter": "python",
   "pygments_lexer": "ipython3",
   "version": "3.10.9"
  },
  "orig_nbformat": 4
 },
 "nbformat": 4,
 "nbformat_minor": 2
}
