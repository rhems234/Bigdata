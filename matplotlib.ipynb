{
 "cells": [
  {
   "cell_type": "code",
   "execution_count": null,
   "metadata": {},
   "outputs": [],
   "source": [
    "import numpy as np\n",
    "import pandas as pd\n",
    "import matplotlib\n",
    "import matplotlib.pyplot as plt"
   ]
  },
  {
   "cell_type": "code",
   "execution_count": null,
   "metadata": {},
   "outputs": [],
   "source": [
    "x=pd.Series([4,3,2,7,5])\n",
    "print(x)"
   ]
  },
  {
   "cell_type": "code",
   "execution_count": null,
   "metadata": {},
   "outputs": [],
   "source": [
    "x.plot()"
   ]
  },
  {
   "cell_type": "code",
   "execution_count": null,
   "metadata": {},
   "outputs": [],
   "source": [
    "data1=np.random.rand(50) #0~1 사이에 실수 n개 생성\n",
    "data2=np.random.randn(50) # 0을 기준으로 정규분표 n개 실수 생성\n",
    "data3=np.random.randint(1,100,10) # 정수를 count 만큼 발생, start, end, count\n",
    "print(data1)\n",
    "print(data2)\n",
    "print(data3)"
   ]
  },
  {
   "cell_type": "code",
   "execution_count": null,
   "metadata": {},
   "outputs": [],
   "source": [
    "matplotlib.style.use('ggplot')\n",
    "data4=np.random.rand(10,4)\n",
    "df= pd.DataFrame(data4, columns=['A','B','C','D'])\n",
    "df.plot()\n",
    "#print(data4)"
   ]
  },
  {
   "cell_type": "code",
   "execution_count": null,
   "metadata": {},
   "outputs": [],
   "source": [
    "df.plot(kind='barh', stacked=True)"
   ]
  },
  {
   "cell_type": "code",
   "execution_count": null,
   "metadata": {},
   "outputs": [],
   "source": [
    "df.plot(kind='area', stacked=False)"
   ]
  },
  {
   "cell_type": "code",
   "execution_count": null,
   "metadata": {},
   "outputs": [],
   "source": [
    "sri=pd.Series(np.random.rand(5), index=['A','B','C','D','E'], name='Series')\n",
    "sri.plot(kind='pie')\n",
    "print(sri)"
   ]
  },
  {
   "cell_type": "code",
   "execution_count": null,
   "metadata": {},
   "outputs": [],
   "source": [
    "# 차트에 한글 사용 설정하기\n",
    "from matplotlib import rc, font_manager\n",
    "fontname = \"C:/Windows/Fonts/gulim.ttc\"\n",
    "font_name = font_manager.FontProperties(fname=fontname).get_name()\n",
    "rc('font', family=font_name)"
   ]
  },
  {
   "cell_type": "code",
   "execution_count": null,
   "metadata": {},
   "outputs": [],
   "source": [
    "sri.plot(kind='pie', autopct=\"%.2f\", fontsize=16, figsize=(8,6))"
   ]
  },
  {
   "cell_type": "code",
   "execution_count": null,
   "metadata": {},
   "outputs": [],
   "source": [
    "#마이너스 부호 깨지지 않게 설정\n",
    "plt.rcParams['axes.unicode_minus']=False"
   ]
  },
  {
   "cell_type": "code",
   "execution_count": null,
   "metadata": {},
   "outputs": [],
   "source": [
    "s1=pd.Series(np.random.normal(0,100,size=200)) #normal(평균, 표준편차, 갯수)\n",
    "s1.hist(bins=10)"
   ]
  },
  {
   "cell_type": "code",
   "execution_count": null,
   "metadata": {},
   "outputs": [],
   "source": [
    "x1=np.random.normal(1,1,size=(100,1))\n",
    "x2=np.random.normal(-2,4,size=(100,1))\n",
    "x=np.concatenate((x1, x2), axis=1) # axis : 1, 가로, 0 : 세로\n",
    "df=pd.DataFrame(x, columns=['x1', 'x2'])\n",
    "df['x1'].corr(df['x2'])"
   ]
  },
  {
   "cell_type": "code",
   "execution_count": null,
   "metadata": {},
   "outputs": [],
   "source": [
    "plt.scatter(x1, x2)"
   ]
  },
  {
   "cell_type": "code",
   "execution_count": null,
   "metadata": {},
   "outputs": [],
   "source": [
    "x=np.arange(1,6)\n",
    "y=np.array([10,20,25,30,20])\n",
    "data={'x':x, 'y':y}\n",
    "df2=pd.DataFrame(data)\n",
    "df2['x'].corr(df2['y'])"
   ]
  },
  {
   "cell_type": "code",
   "execution_count": null,
   "metadata": {},
   "outputs": [],
   "source": [
    "plt.scatter(x,y)"
   ]
  },
  {
   "cell_type": "code",
   "execution_count": null,
   "metadata": {},
   "outputs": [],
   "source": [
    "filename='data/temperature_2014.csv'\n",
    "df=pd.read_csv(filename)\n",
    "df['PST']=pd.to_datetime(df['PST'])\n",
    "#df.info()\n",
    "fig=plt.figure(dpi=128, figsize=(10,6))\n",
    "plt.plot(df['PST'],df['Max TemperatureF'], c= 'red', alpha=0.5)\n",
    "plt.plot(df['PST'],df['Min TemperatureF'], c= 'green', alpha=0.5)\n",
    "plt.fill_between(df['PST'], df['Max TemperatureF'], df['Min TemperatureF'], facecolor='blue', alpha=0.2)\n",
    "plt.title(\"온도 통계\", fontsize=20)\n",
    "plt.xlabel(\"기간\", fontsize=16)\n",
    "plt.ylabel('온도', fontsize=16)\n",
    "plt.tick_params(axis='both', labelsize=16)\n",
    "plt.savefig('data/chart.png', dpi=400, bbox_inches='tight')\n",
    "plt.show()"
   ]
  },
  {
   "cell_type": "code",
   "execution_count": null,
   "metadata": {},
   "outputs": [],
   "source": [
    "#subplot\n",
    "plt.figure()\n",
    "plt.subplot(2,1,1) # subplot(rows, cols, index)\n",
    "plt.plot([1,2,3,4],[10,20,30,40])\n",
    "plt.subplot(2,1,2)\n",
    "plt.plot([10,20,30,40], [10,20,30,40])\n",
    "plt.show()"
   ]
  },
  {
   "cell_type": "code",
   "execution_count": null,
   "metadata": {},
   "outputs": [],
   "source": [
    "plt.plot([1,2,3,4], [1,2,3,4])\n",
    "plt.xlabel('x축')\n",
    "plt.ylabel('y축')\n",
    "plt.title('matplotlib 활용')\n",
    "plt.text(2.5, 3.0, '평균:2.5')\n",
    "plt.grid(True)\n",
    "plt.show()"
   ]
  }
 ],
 "metadata": {
  "kernelspec": {
   "display_name": "base",
   "language": "python",
   "name": "python3"
  },
  "language_info": {
   "codemirror_mode": {
    "name": "ipython",
    "version": 3
   },
   "file_extension": ".py",
   "mimetype": "text/x-python",
   "name": "python",
   "nbconvert_exporter": "python",
   "pygments_lexer": "ipython3",
   "version": "3.10.9"
  },
  "orig_nbformat": 4
 },
 "nbformat": 4,
 "nbformat_minor": 2
}
