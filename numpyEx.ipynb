{
 "cells": [
  {
   "cell_type": "code",
   "execution_count": 11,
   "metadata": {},
   "outputs": [],
   "source": [
    "import numpy as np"
   ]
  },
  {
   "cell_type": "code",
   "execution_count": 25,
   "metadata": {},
   "outputs": [],
   "source": [
    "data=np.genfromtxt(\"data/ratings.dat\", delimiter=\"::\",dtype=np.int64)"
   ]
  },
  {
   "cell_type": "code",
   "execution_count": 14,
   "metadata": {},
   "outputs": [
    {
     "name": "stdout",
     "output_type": "stream",
     "text": [
      "[[        1      1193         5 978300760]\n",
      " [        1       661         3 978302109]\n",
      " [        1       914         3 978301968]\n",
      " [        1      3408         4 978300275]\n",
      " [        1      2355         5 978824291]\n",
      " [        1      1197         3 978302268]\n",
      " [        1      1287         5 978302039]\n",
      " [        1      2804         5 978300719]\n",
      " [        1       594         4 978302268]\n",
      " [        1       919         4 978301368]]\n",
      "(1000209, 4)\n"
     ]
    }
   ],
   "source": [
    "print(data[:10,:])\n",
    "print(data.shape)"
   ]
  },
  {
   "cell_type": "code",
   "execution_count": 15,
   "metadata": {},
   "outputs": [
    {
     "name": "stdout",
     "output_type": "stream",
     "text": [
      "[1 2 3 4 5]\n",
      "(6040,)\n"
     ]
    }
   ],
   "source": [
    "user_ids=np.unique(data[:,0])\n",
    "print(user_ids[:5])\n",
    "print(user_ids.shape)"
   ]
  },
  {
   "cell_type": "code",
   "execution_count": 19,
   "metadata": {},
   "outputs": [],
   "source": [
    "mean_values=[]\n",
    "for user_id in user_ids:\n",
    "    data_for_user=data[data[:,0]==user_id, :]\n",
    "    value=data_for_user[:,2].mean()\n",
    "    mean_values.append([user_id, value])"
   ]
  },
  {
   "cell_type": "code",
   "execution_count": 20,
   "metadata": {},
   "outputs": [
    {
     "data": {
      "text/plain": [
       "[[1, 4.188679245283019],\n",
       " [2, 3.7131782945736433],\n",
       " [3, 3.9019607843137254],\n",
       " [4, 4.190476190476191],\n",
       " [5, 3.1464646464646466],\n",
       " [6, 3.9014084507042255],\n",
       " [7, 4.32258064516129],\n",
       " [8, 3.884892086330935],\n",
       " [9, 3.7358490566037736],\n",
       " [10, 4.114713216957606]]"
      ]
     },
     "execution_count": 20,
     "metadata": {},
     "output_type": "execute_result"
    }
   ],
   "source": [
    "mean_values[:10]"
   ]
  },
  {
   "cell_type": "code",
   "execution_count": 23,
   "metadata": {},
   "outputs": [
    {
     "name": "stdout",
     "output_type": "stream",
     "text": [
      "[[ 1.         4.188679 ]\n",
      " [ 2.         3.7131784]\n",
      " [ 3.         3.9019608]\n",
      " [ 4.         4.1904764]\n",
      " [ 5.         3.1464646]\n",
      " [ 6.         3.9014084]\n",
      " [ 7.         4.322581 ]\n",
      " [ 8.         3.884892 ]\n",
      " [ 9.         3.7358491]\n",
      " [10.         4.114713 ]]\n",
      "(6040, 2)\n"
     ]
    }
   ],
   "source": [
    "mean_array=np.array(mean_values, dtype=np.float32)\n",
    "print(mean_array[:10])\n",
    "print(mean_array.shape)"
   ]
  },
  {
   "cell_type": "code",
   "execution_count": 24,
   "metadata": {},
   "outputs": [],
   "source": [
    "np.savetxt(\"data/ratings.dat_result.csv\", mean_array, fmt=\"%.2f\", delimiter=\",\")"
   ]
  },
  {
   "cell_type": "code",
   "execution_count": 26,
   "metadata": {},
   "outputs": [
    {
     "name": "stdout",
     "output_type": "stream",
     "text": [
      "[ 1  2  3  4  5  6  7  8  9 10]\n",
      "(3706,)\n"
     ]
    }
   ],
   "source": [
    "movie_ids=np.unique(data[:,1])\n",
    "print(movie_ids[:10])\n",
    "print(movie_ids.shape)"
   ]
  },
  {
   "cell_type": "code",
   "execution_count": 29,
   "metadata": {},
   "outputs": [],
   "source": [
    "movie_mean_values=[]"
   ]
  },
  {
   "cell_type": "code",
   "execution_count": 30,
   "metadata": {},
   "outputs": [],
   "source": [
    "for movie_id in movie_ids:\n",
    "    data_for_movie=data[data[:,1]==movie_id,:]\n",
    "    value=data_for_movie[:,2].mean()\n",
    "    movie_mean_values.append([movie_id, value])"
   ]
  },
  {
   "cell_type": "code",
   "execution_count": 31,
   "metadata": {},
   "outputs": [
    {
     "data": {
      "text/plain": [
       "[[1, 4.146846413095811],\n",
       " [2, 3.20114122681883],\n",
       " [3, 3.01673640167364],\n",
       " [4, 2.7294117647058824],\n",
       " [5, 3.0067567567567566],\n",
       " [6, 3.8787234042553194],\n",
       " [7, 3.410480349344978],\n",
       " [8, 3.014705882352941],\n",
       " [9, 2.656862745098039],\n",
       " [10, 3.5405405405405403]]"
      ]
     },
     "execution_count": 31,
     "metadata": {},
     "output_type": "execute_result"
    }
   ],
   "source": [
    "movie_mean_values[:10]"
   ]
  },
  {
   "cell_type": "code",
   "execution_count": 34,
   "metadata": {},
   "outputs": [
    {
     "name": "stdout",
     "output_type": "stream",
     "text": [
      "[[ 1.         4.1468463]\n",
      " [ 2.         3.201141 ]\n",
      " [ 3.         3.0167365]\n",
      " [ 4.         2.7294118]\n",
      " [ 5.         3.0067568]\n",
      " [ 6.         3.8787234]\n",
      " [ 7.         3.4104803]\n",
      " [ 8.         3.014706 ]\n",
      " [ 9.         2.6568627]\n",
      " [10.         3.5405405]]\n",
      "(3706, 2)\n"
     ]
    }
   ],
   "source": [
    "movie_mean_array=np.array(movie_mean_values, dtype=np.float32)\n",
    "print(movie_mean_array[:10])\n",
    "print(movie_mean_array.shape)"
   ]
  },
  {
   "cell_type": "code",
   "execution_count": 35,
   "metadata": {},
   "outputs": [],
   "source": [
    "np.savetxt('data/movie_result.csv', movie_mean_array, fmt=\"%.2f\", delimiter=',')"
   ]
  }
 ],
 "metadata": {
  "kernelspec": {
   "display_name": "base",
   "language": "python",
   "name": "python3"
  },
  "language_info": {
   "codemirror_mode": {
    "name": "ipython",
    "version": 3
   },
   "file_extension": ".py",
   "mimetype": "text/x-python",
   "name": "python",
   "nbconvert_exporter": "python",
   "pygments_lexer": "ipython3",
   "version": "3.10.9"
  },
  "orig_nbformat": 4
 },
 "nbformat": 4,
 "nbformat_minor": 2
}
