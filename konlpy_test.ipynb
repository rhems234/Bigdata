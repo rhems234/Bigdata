{
 "cells": [
  {
   "cell_type": "markdown",
   "metadata": {},
   "source": [
    "# KoNLPy 설치\n",
    "- java 환경설정 \n",
    "    - 고급시스템 설정에서 JAVA_HOME 변수 설정, 값에 자바경로 지정(jdk)\n",
    "    - path에 : %JAVA_HOME%\\bin 추가\n",
    "    \n",
    "- Jpype 다운로드 : https://www.lfd.uci.edu/~gohlke/pythonlibs/#jpype\n",
    "\n",
    "- Jpype를 각자 파이썬 버전에 맞게(저의 경우에는 3.10버전) 다운로드 받아주세요!\n",
    "\n",
    "- JPype1-1.4.0-cp310-cp10-win_amd64.whl\n",
    "\n",
    "- pip install ~\\JPype1-1.4.0-cp310-cp310-win_amd64.whl\n",
    "\n",
    "- pip install konlpy"
   ]
  },
  {
   "cell_type": "code",
   "execution_count": 4,
   "metadata": {},
   "outputs": [
    {
     "data": {
      "text/plain": [
       "'0.6.0'"
      ]
     },
     "execution_count": 4,
     "metadata": {},
     "output_type": "execute_result"
    }
   ],
   "source": [
    "from konlpy.tag import *\n",
    "Hannanum = Hannanum()\n",
    "import konlpy\n",
    "konlpy.__version__"
   ]
  },
  {
   "cell_type": "code",
   "execution_count": 7,
   "metadata": {},
   "outputs": [
    {
     "data": {
      "text/plain": [
       "['constitution.txt']"
      ]
     },
     "execution_count": 7,
     "metadata": {},
     "output_type": "execute_result"
    }
   ],
   "source": [
    "# 대한민국 헌법 말뭉치\n",
    "from konlpy.corpus import kolaw\n",
    "kolaw.fileids()"
   ]
  },
  {
   "cell_type": "code",
   "execution_count": 12,
   "metadata": {},
   "outputs": [
    {
     "name": "stdout",
     "output_type": "stream",
     "text": [
      "대한민국헌법\n",
      "\n",
      "유구한 역사와 전통에 빛나는 우리 대한국민은 3·1운동으로 건립된 대한민국임시정부의 법통과 불의에 항거한 4·19민주이념을 계승하고, 조국의 민주개혁과 평화적 통일의\n"
     ]
    }
   ],
   "source": [
    "c=kolaw.open('constitution.txt').read()\n",
    "print(c[:100])"
   ]
  },
  {
   "cell_type": "code",
   "execution_count": 14,
   "metadata": {},
   "outputs": [
    {
     "data": {
      "text/plain": [
       "['1809890.txt',\n",
       " '1809891.txt',\n",
       " '1809892.txt',\n",
       " '1809893.txt',\n",
       " '1809894.txt',\n",
       " '1809895.txt',\n",
       " '1809896.txt',\n",
       " '1809897.txt',\n",
       " '1809898.txt',\n",
       " '1809899.txt']"
      ]
     },
     "execution_count": 14,
     "metadata": {},
     "output_type": "execute_result"
    }
   ],
   "source": [
    "from konlpy.corpus import kobill\n",
    "kobill.fileids()"
   ]
  },
  {
   "cell_type": "code",
   "execution_count": 20,
   "metadata": {},
   "outputs": [
    {
     "name": "stdout",
     "output_type": "stream",
     "text": [
      "지방공무원법 일부개정법률안\n",
      "\n",
      "(정의화의원 대표발의 )\n",
      "\n",
      " 의 안\n",
      " 번 호\n",
      "\n",
      "9890\n",
      "\n",
      "발의연월일 : 2010.  11.  12.  \n",
      "\n",
      "발  의  자 : 정의화․이명수․김을동 \n",
      "\n",
      "이사철․여상규․안규백\n",
      "\n",
      "황영철․박영아․김정훈\n",
      "\n",
      "김학송 의원(10인)\n",
      "\n",
      "제안이유 및 주요내용\n",
      "\n",
      "  초등학교 저학년의 경우에도 부모의 따뜻한 사랑과 보살핌이 필요\n",
      "\n",
      "한 나이이나, 현재 공무원이 자녀를 양육하기 위하여 육아휴직을 할 \n",
      "\n",
      "수 있는 자녀의 나이는 만 6세 이하로 되어 있어 초등학교 저학년인 \n",
      "\n",
      "자녀를 돌보기 위해서는 해당 부모님은 일자리를 그만 두어야 하고 \n",
      "\n",
      "이는 곧 출산의욕을 저하시키는 문제로 이어질 수 있을 것임.\n",
      "\n",
      "  따라서 육아휴직이 가능한 자녀의 연령을 만 8세 이하로 개정하려\n",
      "\n",
      "는 것임(안 제63조제2항제4호).\n",
      "\n",
      "- 1 -\n",
      "\n",
      "\f법률  제        호\n",
      "\n",
      "지방공무원법 일부개정법률안\n",
      "\n",
      "지방공무원법 일부를 다음과 같이 개정한다.\n",
      "\n",
      "제63조제2항제4호 중 “만 6세 이하의 초등학교 취학 전 자\n"
     ]
    }
   ],
   "source": [
    "d=kobill.open('1809890.txt').read()\n",
    "print(d[:500])"
   ]
  },
  {
   "cell_type": "markdown",
   "metadata": {},
   "source": [
    "# 형태소 분석 \n",
    "- konlpy의 형태소 분석, 태깅 라이브러리\n",
    "  - Hannanum :한나눔. KAIST Semantic Web Research Center 개발\n",
    "    -http://semanticweb.kaist.ac.kr/hannanum/\n",
    "\n",
    "  - Kkma: 꼬꼬마. 서울대학교 IDS(Intelligent Data Systems) 연구실 개발.\n",
    "    - http://kkma.snu.ac.kr/\n",
    "\n",
    "  - Komoran: 코모란. Shineware에서 개발.\n",
    "    - https://github.com/shin285/KOMORAN\n",
    "\n",
    "  - Open Korean Text: 오픈 소스 한국어 분석기. 과거 트위터 형태소 분석기.\n",
    "    - https://github.com/open-korean-text/open-korean-text\n",
    "\n",
    "- 여기에서는 한나눔, 꼬꼬마, 오픈코리안텍스트 형태소만 예제로 포함하였다."
   ]
  },
  {
   "cell_type": "code",
   "execution_count": 24,
   "metadata": {},
   "outputs": [],
   "source": [
    "from konlpy.tag import *\n",
    "hannanum = Hannanum()\n",
    "kkma=Kkma()\n",
    "Komoran=Komoran()\n",
    "okt=Okt()"
   ]
  },
  {
   "cell_type": "markdown",
   "metadata": {},
   "source": [
    "# 형태소 분석기 공통적 기능\n",
    " - nonus : 명사 추출\n",
    " - morphs : 형태소 추출\n",
    " - pos : 형태소 추출과 품사태깅"
   ]
  },
  {
   "cell_type": "code",
   "execution_count": 26,
   "metadata": {},
   "outputs": [
    {
     "data": {
      "text/plain": [
       "['대한민국헌법', '유구', '역사', '전통', '빛', '우리', '대한국민', '3·1운동', '건립', '대한민국임']"
      ]
     },
     "execution_count": 26,
     "metadata": {},
     "output_type": "execute_result"
    }
   ],
   "source": [
    "hannanum.nouns(c[:50])"
   ]
  },
  {
   "cell_type": "code",
   "execution_count": 28,
   "metadata": {},
   "outputs": [
    {
     "data": {
      "text/plain": [
       "['대한',\n",
       " '대한민국',\n",
       " '대한민국헌법',\n",
       " '민국',\n",
       " '헌법',\n",
       " '유구',\n",
       " '역사',\n",
       " '전통',\n",
       " '우리',\n",
       " '국민',\n",
       " '3',\n",
       " '1',\n",
       " '1운동',\n",
       " '운동',\n",
       " '건립',\n",
       " '대한민국임',\n",
       " '임']"
      ]
     },
     "execution_count": 28,
     "metadata": {},
     "output_type": "execute_result"
    }
   ],
   "source": [
    "kkma.nouns(c[:50])"
   ]
  },
  {
   "cell_type": "code",
   "execution_count": 31,
   "metadata": {},
   "outputs": [
    {
     "data": {
      "text/plain": [
       "['대한민국', '헌법', '유구', '역사', '전통', '우리', '국민', '운동', '건립', '대한민국', '임']"
      ]
     },
     "execution_count": 31,
     "metadata": {},
     "output_type": "execute_result"
    }
   ],
   "source": [
    "okt.nouns(c[:50])"
   ]
  },
  {
   "cell_type": "code",
   "execution_count": 35,
   "metadata": {},
   "outputs": [
    {
     "data": {
      "text/plain": [
       "[('텍스트', 'Noun'),\n",
       " ('분석', 'Noun'),\n",
       " ('은', 'Josa'),\n",
       " ('어려워요', 'Adjective'),\n",
       " ('ㅠㅠ', 'KoreanParticle')]"
      ]
     },
     "execution_count": 35,
     "metadata": {},
     "output_type": "execute_result"
    }
   ],
   "source": [
    "s='텍스트 분석은 어려워요 ㅠㅠ'\n",
    "okt.pos(s)"
   ]
  },
  {
   "cell_type": "code",
   "execution_count": 36,
   "metadata": {},
   "outputs": [
    {
     "data": {
      "text/plain": [
       "['텍스트', '분석', '은', '어려워요', 'ㅠㅠ']"
      ]
     },
     "execution_count": 36,
     "metadata": {},
     "output_type": "execute_result"
    }
   ],
   "source": [
    "okt.morphs(s)"
   ]
  }
 ],
 "metadata": {
  "kernelspec": {
   "display_name": "base",
   "language": "python",
   "name": "python3"
  },
  "language_info": {
   "codemirror_mode": {
    "name": "ipython",
    "version": 3
   },
   "file_extension": ".py",
   "mimetype": "text/x-python",
   "name": "python",
   "nbconvert_exporter": "python",
   "pygments_lexer": "ipython3",
   "version": "3.10.9"
  },
  "orig_nbformat": 4
 },
 "nbformat": 4,
 "nbformat_minor": 2
}
