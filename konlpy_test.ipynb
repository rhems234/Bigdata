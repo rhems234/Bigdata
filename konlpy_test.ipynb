{
 "cells": [
  {
   "cell_type": "markdown",
   "metadata": {},
   "source": [
    "# KoNLPy 설치\n",
    "- java 환경설정 \n",
    "    - 고급시스템 설정에서 JAVA_HOME 변수 설정, 값에 자바경로 지정(jdk)\n",
    "    - path에 : %JAVA_HOME%\\bin 추가\n",
    "    \n",
    "- Jpype 다운로드 : https://www.lfd.uci.edu/~gohlke/pythonlibs/#jpype\n",
    "\n",
    "- Jpype를 각자 파이썬 버전에 맞게(저의 경우에는 3.10버전) 다운로드 받아주세요!\n",
    "\n",
    "- JPype1-1.4.0-cp310-cp10-win_amd64.whl\n",
    "\n",
    "- pip install ~\\JPype1-1.4.0-cp310-cp310-win_amd64.whl\n",
    "\n",
    "- pip install konlpy"
   ]
  },
  {
   "cell_type": "code",
   "execution_count": null,
   "metadata": {},
   "outputs": [],
   "source": [
    "from konlpy.tag import *\n",
    "Hannanum = Hannanum()\n",
    "import konlpy\n",
    "konlpy.__version__"
   ]
  },
  {
   "cell_type": "code",
   "execution_count": null,
   "metadata": {},
   "outputs": [],
   "source": [
    "# 대한민국 헌법 말뭉치\n",
    "from konlpy.corpus import kolaw\n",
    "kolaw.fileids()"
   ]
  },
  {
   "cell_type": "code",
   "execution_count": null,
   "metadata": {},
   "outputs": [],
   "source": [
    "c=kolaw.open('constitution.txt').read()\n",
    "print(c[:100])"
   ]
  },
  {
   "cell_type": "code",
   "execution_count": null,
   "metadata": {},
   "outputs": [],
   "source": [
    "from konlpy.corpus import kobill\n",
    "kobill.fileids()"
   ]
  },
  {
   "cell_type": "code",
   "execution_count": null,
   "metadata": {},
   "outputs": [],
   "source": [
    "d=kobill.open('1809890.txt').read()\n",
    "print(d[:500])"
   ]
  },
  {
   "cell_type": "markdown",
   "metadata": {},
   "source": [
    "# 형태소 분석 \n",
    "- konlpy의 형태소 분석, 태깅 라이브러리\n",
    "  - Hannanum :한나눔. KAIST Semantic Web Research Center 개발\n",
    "    -http://semanticweb.kaist.ac.kr/hannanum/\n",
    "\n",
    "  - Kkma: 꼬꼬마. 서울대학교 IDS(Intelligent Data Systems) 연구실 개발.\n",
    "    - http://kkma.snu.ac.kr/\n",
    "\n",
    "  - Komoran: 코모란. Shineware에서 개발.\n",
    "    - https://github.com/shin285/KOMORAN\n",
    "\n",
    "  - Open Korean Text: 오픈 소스 한국어 분석기. 과거 트위터 형태소 분석기.\n",
    "    - https://github.com/open-korean-text/open-korean-text\n",
    "\n",
    "- 여기에서는 한나눔, 꼬꼬마, 오픈코리안텍스트 형태소만 예제로 포함하였다."
   ]
  },
  {
   "cell_type": "code",
   "execution_count": null,
   "metadata": {},
   "outputs": [],
   "source": [
    "from konlpy.tag import *\n",
    "hannanum = Hannanum()\n",
    "kkma=Kkma()\n",
    "Komoran=Komoran()\n",
    "okt=Okt()"
   ]
  },
  {
   "cell_type": "markdown",
   "metadata": {},
   "source": [
    "# 형태소 분석기 공통적 기능\n",
    " - nonus : 명사 추출\n",
    " - morphs : 형태소 추출\n",
    " - pos : 형태소 추출과 품사태깅"
   ]
  },
  {
   "cell_type": "code",
   "execution_count": null,
   "metadata": {},
   "outputs": [],
   "source": [
    "hannanum.nouns(c[:50])"
   ]
  },
  {
   "cell_type": "code",
   "execution_count": null,
   "metadata": {},
   "outputs": [],
   "source": [
    "kkma.nouns(c[:50])"
   ]
  },
  {
   "cell_type": "code",
   "execution_count": null,
   "metadata": {},
   "outputs": [],
   "source": [
    "okt.nouns(c[:50])"
   ]
  },
  {
   "cell_type": "code",
   "execution_count": null,
   "metadata": {},
   "outputs": [],
   "source": [
    "s='텍스트 분석은 어려워요 ㅠㅠ'\n",
    "okt.pos(s)"
   ]
  },
  {
   "cell_type": "code",
   "execution_count": null,
   "metadata": {},
   "outputs": [],
   "source": [
    "okt.morphs(s)"
   ]
  },
  {
   "cell_type": "code",
   "execution_count": null,
   "metadata": {},
   "outputs": [],
   "source": [
    "hannanum.pos(c[:40])"
   ]
  },
  {
   "cell_type": "code",
   "execution_count": null,
   "metadata": {},
   "outputs": [],
   "source": [
    "hannanum.tagset"
   ]
  },
  {
   "cell_type": "code",
   "execution_count": null,
   "metadata": {},
   "outputs": [],
   "source": [
    "okt.tagset"
   ]
  },
  {
   "cell_type": "code",
   "execution_count": null,
   "metadata": {},
   "outputs": [],
   "source": [
    "kkma.tagset"
   ]
  },
  {
   "cell_type": "code",
   "execution_count": null,
   "metadata": {},
   "outputs": [],
   "source": [
    "from nltk import Text\n",
    "import matplotlib.pyplot as plt\n",
    "from matplotlib import font_manager, rc"
   ]
  },
  {
   "cell_type": "code",
   "execution_count": null,
   "metadata": {},
   "outputs": [],
   "source": [
    "font_path = 'c:/Windows/Fonts/malgun.ttf'\n",
    "font_name = font_manager.FontProperties(fname=font_path).get_name()\n",
    "rc('font', family=font_name)"
   ]
  },
  {
   "cell_type": "code",
   "execution_count": null,
   "metadata": {},
   "outputs": [],
   "source": [
    "kolaw = Text(okt.nouns(c), name='kolaw')\n",
    "kolaw.plot(30)\n",
    "plt.show()"
   ]
  },
  {
   "cell_type": "code",
   "execution_count": null,
   "metadata": {},
   "outputs": [],
   "source": [
    "kv=kolaw.vocab()\n",
    "kv2=dict()\n",
    "for tag, count in kv.items() :\n",
    "    if(len(tag))>1:\n",
    "        kv2[tag]=count\n",
    "\n",
    "#kv2\n",
    "kv"
   ]
  },
  {
   "cell_type": "code",
   "execution_count": null,
   "metadata": {},
   "outputs": [],
   "source": [
    "from wordcloud import WordCloud\n",
    "font_path='c:/Windows/Fonts/malgun.ttf'\n",
    "wc=WordCloud(width=1000, height=800, background_color='white', font_path=font_path)\n",
    "plt.imshow(wc.generate_from_frequencies(kv2))\n",
    "plt.axis('off')\n",
    "plt.show()"
   ]
  },
  {
   "cell_type": "code",
   "execution_count": null,
   "metadata": {},
   "outputs": [],
   "source": [
    "from collections import Counter"
   ]
  },
  {
   "cell_type": "code",
   "execution_count": null,
   "metadata": {},
   "outputs": [],
   "source": [
    "nouns=okt.nouns(c)\n",
    "counter=Counter(nouns)\n",
    "#print(counter)\n",
    "counter1 = counter.most_common(10)\n",
    "\n",
    "counter2=dict()\n",
    "for tag,count in counter.items() :\n",
    "    if (len(tag)>1) and (count>1):\n",
    "        counter2[tag] = count\n",
    "\n",
    "counter2"
   ]
  },
  {
   "cell_type": "code",
   "execution_count": null,
   "metadata": {},
   "outputs": [],
   "source": [
    "f=open('data/navernews.txt',encoding='utf-8')\n",
    "data=f.read()\n",
    "print(data)"
   ]
  },
  {
   "cell_type": "code",
   "execution_count": null,
   "metadata": {},
   "outputs": [],
   "source": [
    "nouns_news=okt.nouns(data)\n",
    "counter=Counter(nouns_news)\n",
    "counter2=dict()\n",
    "for tag, count in counter.items() :\n",
    "    if(len(tag)>1) and (count>1):\n",
    "        counter2[tag] = count\n",
    "\n",
    "counter2"
   ]
  },
  {
   "cell_type": "code",
   "execution_count": null,
   "metadata": {},
   "outputs": [],
   "source": [
    "wc=WordCloud(width=1000, height=800, background_color='white',random_state=0, font_path=font_path)\n",
    "plt.imshow(wc.generate_from_frequencies(counter2))\n",
    "plt.axis('off')\n",
    "plt.show()"
   ]
  },
  {
   "cell_type": "code",
   "execution_count": null,
   "metadata": {},
   "outputs": [],
   "source": [
    "! pip install pygame\n",
    "! pip install pytagcloud\n",
    "! pip install simplejson"
   ]
  },
  {
   "cell_type": "code",
   "execution_count": null,
   "metadata": {},
   "outputs": [],
   "source": [
    "import pytagcloud\n",
    "count3 = counter.most_common(50)\n",
    "taglist = pytagcloud.make_tags(count3, maxsize=80) # 태그리스트 작성\n",
    "\n",
    "pytagcloud.create_tag_image(taglist, 'data/pycloud.png', size=(900,800),\n",
    "                            fontname='Korean', rectangular=False) #pytagCloud 이미지 작성"
   ]
  }
 ],
 "metadata": {
  "kernelspec": {
   "display_name": "base",
   "language": "python",
   "name": "python3"
  },
  "language_info": {
   "codemirror_mode": {
    "name": "ipython",
    "version": 3
   },
   "file_extension": ".py",
   "mimetype": "text/x-python",
   "name": "python",
   "nbconvert_exporter": "python",
   "pygments_lexer": "ipython3",
   "version": "3.10.9"
  },
  "orig_nbformat": 4
 },
 "nbformat": 4,
 "nbformat_minor": 2
}
