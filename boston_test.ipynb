{
 "cells": [
  {
   "cell_type": "code",
   "execution_count": null,
   "metadata": {},
   "outputs": [],
   "source": [
    "import numpy as np\n",
    "import pandas as pd\n",
    "import statsmodels.api as sm\n",
    "import matplotlib.pyplot as plt\n",
    "from sklearn.linear_model import LinearRegression\n",
    "from sklearn.model_selection import train_test_split\n",
    "\n",
    "data_url = \"http://lib.stat.cmu.edu/datasets/boston\"\n",
    "raw_df = pd.read_csv(data_url, sep=\"\\s+\",  skiprows=22, header=None)\n",
    "data = np.hstack([raw_df.values[::2, :], raw_df.values[1::2, :2]])\n",
    "target = raw_df.values[1::2, 2]"
   ]
  },
  {
   "cell_type": "code",
   "execution_count": null,
   "metadata": {},
   "outputs": [],
   "source": [
    "df=pd.DataFrame(data, columns=['CRIM', 'ZN', 'INDUS', 'CHAS', 'NOX', 'RM', 'AGE', 'DIS', 'RAD',\n",
    "                               'TAX', 'PTRATIO', 'B', 'LSTAT'])"
   ]
  },
  {
   "cell_type": "code",
   "execution_count": null,
   "metadata": {},
   "outputs": [],
   "source": [
    "df['TARGET']=target\n",
    "df"
   ]
  },
  {
   "cell_type": "markdown",
   "metadata": {},
   "source": [
    "# 요약 통계\n",
    "1. chas 에 따른 집가격(target)위 평균, 표준편차, 중앙값을 구하라.\n",
    "2. 선형회귀분석을 모델을 생성하고 모델을 사용하여 예측값을 구하라.\n",
    "3. 새로운 데이터 2개를 사용하여 예측값을 구하라.\n",
    "4. 부분회귀분석 시각화를 작성하여 독립변수들이 종속변수에 미치는 영향을 분석하라.\n",
    "    - 1개독립변수 분석(plot_partregress)은 (CRIM)으로한다.\n",
    "    - plot_partregress_grid() 작성."
   ]
  },
  {
   "cell_type": "code",
   "execution_count": null,
   "metadata": {},
   "outputs": [],
   "source": [
    "# 1\n",
    "chas_mean = df.groupby('CHAS')['TARGET'].mean()\n",
    "chas_std = df.groupby('CHAS')['TARGET'].std()\n",
    "chas_median = df.groupby('CHAS')['TARGET'].median()\n",
    "\n",
    "print(\"chas = 0 평균:\", chas_mean[0])\n",
    "print(\"chas = 0 표준편차:\", chas_std[0])\n",
    "print(\"chas = 0 중앙값:\", chas_median[0])\n",
    "\n",
    "print(\"chas = 1 평균:\", chas_mean[1])\n",
    "print(\"chas = 1 표준편차:\", chas_std[1])\n",
    "print(\"chas = 1 중앙값:\", chas_median[1])"
   ]
  },
  {
   "cell_type": "code",
   "execution_count": null,
   "metadata": {},
   "outputs": [],
   "source": [
    "# 2\n",
    "X = df.drop('TARGET', axis=1)\n",
    "y = df['TARGET']\n",
    "\n",
    "X_train, X_test, y_train, y_test = train_test_split(X, y, test_size=0.2, random_state=42)\n",
    "\n",
    "model = LinearRegression()\n",
    "model.fit(X_train, y_train)\n",
    "\n",
    "# 테스트 데이터에 대한 예측값 계산\n",
    "y_pred = model.predict(X_test)\n",
    "\n",
    "print(\"예측값:\", y_pred)"
   ]
  },
  {
   "cell_type": "code",
   "execution_count": null,
   "metadata": {},
   "outputs": [],
   "source": [
    "# 3\n",
    "new_data = np.array([[0.02, 18, 2.0, 0, 0.4, 6.5, 65, 4.0, 3, 300, 15, 390, 6.0],\n",
    "                     [0.12, 0, 12.0, 1, 0.7, 5.5, 80, 3.5, 4, 400, 17, 360, 8.0]])\n",
    "\n",
    "new_predictions = model.predict(new_data)\n",
    "print(\"새로운 데이터 예측값:\", new_predictions)"
   ]
  },
  {
   "cell_type": "code",
   "execution_count": null,
   "metadata": {},
   "outputs": [],
   "source": [
    "# 4-1\n",
    "fig = plt.figure(figsize=(12, 8))\n",
    "fig = sm.graphics.plot_partregress(\"TARGET\", \"CRIM\", [], data=df, obs_labels=False)\n",
    "\n",
    "plt.show()"
   ]
  },
  {
   "cell_type": "code",
   "execution_count": null,
   "metadata": {},
   "outputs": [],
   "source": [
    "# 4-2\n",
    "X = sm.add_constant(df.drop('TARGET', axis=1))\n",
    "\n",
    "model = sm.OLS(df['TARGET'], X)\n",
    "results = model.fit()\n",
    "\n",
    "fig = plt.figure(figsize=(12, 8))\n",
    "fig = sm.graphics.plot_partregress_grid(results, fig=fig)\n",
    "\n",
    "plt.show()\n"
   ]
  }
 ],
 "metadata": {
  "kernelspec": {
   "display_name": "base",
   "language": "python",
   "name": "python3"
  },
  "language_info": {
   "codemirror_mode": {
    "name": "ipython",
    "version": 3
   },
   "file_extension": ".py",
   "mimetype": "text/x-python",
   "name": "python",
   "nbconvert_exporter": "python",
   "pygments_lexer": "ipython3",
   "version": "3.10.9"
  },
  "orig_nbformat": 4
 },
 "nbformat": 4,
 "nbformat_minor": 2
}
